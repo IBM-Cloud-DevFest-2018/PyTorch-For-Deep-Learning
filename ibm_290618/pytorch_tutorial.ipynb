{
 "cells": [
  {
   "cell_type": "code",
   "execution_count": 4,
   "metadata": {},
   "outputs": [],
   "source": [
    "# from IPython.core.display import HTML\n",
    "# HTML(\"\"\"\n",
    "# <style>\n",
    "\n",
    "# div.cell { /* Tunes the space between cells */\n",
    "# margin-top:1em;\n",
    "# margin-bottom:1em;\n",
    "# }\n",
    "\n",
    "# div.text_cell_render h1 { /* Main titles bigger, centered */\n",
    "# font-size: 2.2em;\n",
    "# line-height:1.4em;\n",
    "# text-align:center;\n",
    "# }\n",
    "\n",
    "# div.text_cell_render h2 { /*  Parts names nearer from text */\n",
    "# margin-bottom: -0.4em;\n",
    "# }\n",
    "\n",
    "\n",
    "# div.text_cell_render { /* Customize text cells */\n",
    "# font-family: 'Times New Roman';\n",
    "# font-size:1.5em;\n",
    "# line-height:1.4em;\n",
    "# padding-left:3em;\n",
    "# padding-right:3em;\n",
    "# }\n",
    "# </style>\n",
    "# \"\"\")"
   ]
  },
  {
   "cell_type": "markdown",
   "metadata": {},
   "source": [
    "- `jupyter nbconvert Jupyter\\ Slides.ipynb --to slides --post serve`"
   ]
  },
  {
   "cell_type": "markdown",
   "metadata": {},
   "source": [
    "# Plan\n",
    "\n",
    "- Automatic differentiation\n",
    "- Deep learning frameworks\n",
    "- Backpropagation algorithm\n",
    "- PyTorch for deep learning\n",
    "- Example"
   ]
  },
  {
   "cell_type": "code",
   "execution_count": 5,
   "metadata": {},
   "outputs": [],
   "source": [
    "%matplotlib inline\n",
    "import matplotlib\n",
    "import matplotlib.pyplot as plt\n",
    "import seaborn as sns\n",
    "sns.set_style(\"dark\")\n",
    "plt.rcParams['figure.figsize'] = 16, 12"
   ]
  },
  {
   "cell_type": "markdown",
   "metadata": {},
   "source": [
    "<img src=\"images/allframeworks.png\" />"
   ]
  },
  {
   "cell_type": "markdown",
   "metadata": {},
   "source": [
    "# Computational graph\n",
    "\n",
    "| Addition  | Affine transformation  |\n",
    "|---|---|\n",
    "| <img src=\"images/addition.png\" />  | <img src=\"images/affine_transformation.png\" />  |"
   ]
  },
  {
   "cell_type": "markdown",
   "metadata": {},
   "source": [
    "# Functions of a deep learning framework\n",
    "\n",
    "Any DL framework have support:\n",
    "- definition of a computaional graph\n",
    "- differentiation of a computational graph\n",
    "- evaluation of a computational graph"
   ]
  },
  {
   "cell_type": "markdown",
   "metadata": {},
   "source": [
    "# Types of deep learning frameworks\n",
    "\n",
    "<img src=\"images/frameworks.png\" width=640 />"
   ]
  },
  {
   "cell_type": "code",
   "execution_count": null,
   "metadata": {},
   "outputs": [],
   "source": []
  },
  {
   "cell_type": "code",
   "execution_count": null,
   "metadata": {},
   "outputs": [],
   "source": []
  },
  {
   "cell_type": "markdown",
   "metadata": {
    "slideshow": {
     "slide_type": "slide"
    }
   },
   "source": [
    "<img src=\"images/mytorch.png\" />"
   ]
  },
  {
   "cell_type": "markdown",
   "metadata": {
    "slideshow": {
     "slide_type": "subslide"
    }
   },
   "source": [
    "## Simple function\n",
    "\n",
    "$$\\Large\n",
    "\\begin{array}{rcl}\n",
    "f\\left(x, y\\right) = y + y x + y x^2\n",
    "\\end{array}\n",
    "$$"
   ]
  },
  {
   "cell_type": "code",
   "execution_count": 6,
   "metadata": {},
   "outputs": [
    {
     "name": "stdout",
     "output_type": "stream",
     "text": [
      "f(3, 2) = 26\n"
     ]
    }
   ],
   "source": [
    "# let's define a function\n",
    "\n",
    "def f(x, y):\n",
    "    return y + y*x + y*x**2\n",
    "\n",
    "print('f(3, 2) =', f(3, 2))"
   ]
  },
  {
   "cell_type": "markdown",
   "metadata": {},
   "source": [
    "## Analytic derivative of the function\n",
    "\n",
    "$$\\Large\n",
    "\\begin{array}{rcl}\n",
    "\\dfrac{\\partial}{\\partial x} f\\left(x, y\\right) = ?\n",
    "\\end{array}\n",
    "$$"
   ]
  },
  {
   "cell_type": "markdown",
   "metadata": {},
   "source": [
    "## Analytic derivative of the function\n",
    "\n",
    "$$\\Large\n",
    "\\begin{array}{rcl}\n",
    "\\dfrac{\\partial}{\\partial x} f\\left(x, y\\right) = y + 2 y x\n",
    "\\end{array}\n",
    "$$"
   ]
  },
  {
   "cell_type": "code",
   "execution_count": 7,
   "metadata": {},
   "outputs": [
    {
     "name": "stdout",
     "output_type": "stream",
     "text": [
      "df_dx(x, y) = 14\n"
     ]
    }
   ],
   "source": [
    "# let's define function which returns its derivative wrt x evaluated at a point\n",
    "\n",
    "def df_dx(x, y):\n",
    "    return y + 2*y*x\n",
    "\n",
    "print('df_dx(x, y) =', df_dx(3, 2))"
   ]
  },
  {
   "cell_type": "markdown",
   "metadata": {},
   "source": [
    "## Chain rule\n",
    "\n",
    "$$\\Large\n",
    "\\begin{array}{rcl}\n",
    "\\left(f \\circ g\\right)' &=& \\left(f' \\circ g\\right)\\cdot g' \\\\\n",
    "\\dfrac{\\partial f\\left(g\\left(x\\right)\\right)}{\\partial x} &=& \\dfrac{\\partial f\\left(g\\left(x\\right)\\right)}{\\partial g\\left(x\\right)}\\cdot\\dfrac{\\partial g\\left(x\\right)}{\\partial x}\n",
    "\\end{array}\n",
    "$$"
   ]
  },
  {
   "cell_type": "markdown",
   "metadata": {},
   "source": [
    "## Function as Directed Acyclic Graph\n",
    "- each node is an elementary function\n",
    "$$\\Large\n",
    "\\begin{array}{rcl}\n",
    "f\\left(x, y\\right) &=& y + y x + y x^2 \\\\\n",
    "g_1\\left(x, y\\right) &=& x \\\\\n",
    "g_2\\left(x, y\\right) &=& y \\\\\n",
    "g_3\\left(x, y\\right) &=& x^2 = g_1^2 \\\\\n",
    "g_4\\left(x, y\\right) &=& y \\cdot x = g_2 \\cdot g_1 \\\\\n",
    "g_5\\left(x, y\\right) &=& y + y \\cdot x = g_2 + g_4 \\\\\n",
    "g_6\\left(x, y\\right) &=& y \\cdot x^2 = g_2 \\cdot g_3 \\\\\n",
    "g_7\\left(x, y\\right) &=& f\\left(x, y\\right) = g_5 + g_6 \\\\\n",
    "\\end{array}\n",
    "$$"
   ]
  },
  {
   "cell_type": "code",
   "execution_count": 8,
   "metadata": {},
   "outputs": [
    {
     "data": {
      "image/png": "[encoded data removed]",
      "text/plain": [
       "<matplotlib.figure.Figure at 0x7f8aad94f390>"
      ]
     },
     "metadata": {},
     "output_type": "display_data"
    }
   ],
   "source": [
    "# let's draw computational graph\n",
    "import networkx as nx\n",
    "\n",
    "G = nx.OrderedDiGraph()\n",
    "G.add_node(r'$g_1$')\n",
    "G.add_node(r'$g_2$')\n",
    "G.add_node(r'$g_3$')\n",
    "G.add_edge(r'$g_1$', r'$g_3$')\n",
    "G.add_node(r'$g_4$')\n",
    "G.add_edge(r'$g_1$', r'$g_4$')\n",
    "G.add_edge(r'$g_2$', r'$g_4$')\n",
    "G.add_node(r'$g_5$')\n",
    "G.add_edge(r'$g_2$', r'$g_5$')\n",
    "G.add_edge(r'$g_4$', r'$g_5$')\n",
    "G.add_node(r'$g_6$')\n",
    "G.add_edge(r'$g_3$', r'$g_6$')\n",
    "G.add_edge(r'$g_2$', r'$g_6$')\n",
    "G.add_node(r'$g_7$')\n",
    "G.add_edge(r'$g_5$', r'$g_7$')\n",
    "G.add_edge(r'$g_6$', r'$g_7$')\n",
    "color_map = []\n",
    "for node in G:\n",
    "    if node == r'$g_1$' or node == r'$g_2$':\n",
    "        color_map.append('lightgreen')\n",
    "    elif node == r'$g_7$':\n",
    "        color_map.append('red')\n",
    "    else:\n",
    "        color_map.append('lightblue')\n",
    "\n",
    "nx.draw_circular(G, with_labels=True, node_size=1000, node_color=color_map)"
   ]
  },
  {
   "cell_type": "markdown",
   "metadata": {},
   "source": [
    "## Differentiation of elementary funtions\n",
    "$$\\Large\n",
    "\\begin{array}{rcl}\n",
    "\\dfrac{\\partial g_1}{\\partial x} &=& \\left. \\dfrac{\\partial}{\\partial x} x = 1 \\right|_{x=3, y=2} = 1 \\\\ \\\\\n",
    "\\dfrac{\\partial g_2}{\\partial x} &=& \\left. \\dfrac{\\partial}{\\partial x} y = 0 \\right|_{x=3, y=2} = 0 \\\\ \\\\\n",
    "\\dfrac{\\partial g_3}{\\partial x} &=& \\left. \\dfrac{\\partial}{\\partial x} g_1^2 = 2 g_1 \\dfrac{\\partial g1}{\\partial x} = 2x \\right|_{x=3, y=2} = 6 \\\\ \\\\\n",
    "\\dfrac{\\partial g_4}{\\partial x} &=& \\left. \\dfrac{\\partial}{\\partial x} g_2 \\cdot g_1 = g_2 \\dfrac{\\partial g_1}{\\partial x} + \\dfrac{\\partial g_2}{\\partial x} g_1 = g_2 = y \\right|_{x=3, y=2} = 2 \\\\ \\\\\n",
    "\\dfrac{\\partial g_5}{\\partial x} &=& \\left. \\dfrac{\\partial}{\\partial x}\\left(g_2 + g_4\\right) = \\dfrac{\\partial g_2}{\\partial x} + \\dfrac{\\partial g_4}{\\partial x} = g_2 = y \\right|_{x=3, y=2} = 2 \\\\ \\\\\n",
    "\\dfrac{\\partial g_6}{\\partial x} &=& \\left. \\dfrac{\\partial}{\\partial x} g_2 \\cdot g_3 = g_2 \\dfrac{\\partial g_3}{\\partial x} + \\dfrac{\\partial g_2}{\\partial x} g_3 = y \\cdot 2x \\right|_{x=3, y=2} = 12 \\\\ \\\\\n",
    "\\dfrac{\\partial g_7}{\\partial x} &=& \\left. \\dfrac{\\partial}{\\partial x}\\left(g_5 + g_6\\right) = \\dfrac{\\partial g_5}{\\partial x} + \\dfrac{\\partial g_6}{\\partial x} = y + 2xy \\right|_{x=3, y=2} = 14 \\\\ \\\\\n",
    "\\dfrac{\\partial f}{\\partial x} &=& \\left. \\dfrac{\\partial f}{\\partial g_7} \\cdot \\dfrac{\\partial g_7}{\\partial x} = y + 2xy \\right|_{x=3, y=2} = 14\n",
    "\\end{array}\n",
    "$$"
   ]
  },
  {
   "cell_type": "markdown",
   "metadata": {},
   "source": [
    "## Auto differentiation\n",
    "- we calculate value of the function and its derivative w.r.t. $x$ in a point **simultaneously**"
   ]
  },
  {
   "cell_type": "code",
   "execution_count": 9,
   "metadata": {},
   "outputs": [],
   "source": [
    "# let's write a class which can automaticall calculate derivative wrt x\n",
    "\n",
    "class Variable:\n",
    "    \n",
    "    def __init__(self, value, derivative):\n",
    "        self.value = value\n",
    "        self.derivative = derivative\n",
    "\n",
    "    def __add__(self, other):\n",
    "        return Variable(\n",
    "            self.value + other.value,\n",
    "            self.derivative + other.derivative\n",
    "        )\n",
    "    \n",
    "    def __mul__(self, other):\n",
    "        return Variable(\n",
    "            self.value * other.value,\n",
    "            self.derivative * other.value + self.value * other.derivative\n",
    "        )\n",
    "\n",
    "    def __pow__(self, other):\n",
    "        return Variable(\n",
    "            self.value ** other,\n",
    "            other * self.value ** (other - 1)\n",
    "        )\n",
    "    \n",
    "    def __repr__(self):\n",
    "        return 'v=%s, d=%s' % (str(self.value), str(self.derivative))"
   ]
  },
  {
   "cell_type": "code",
   "execution_count": 10,
   "metadata": {},
   "outputs": [
    {
     "data": {
      "text/plain": [
       "v=26, d=14"
      ]
     },
     "execution_count": 10,
     "metadata": {},
     "output_type": "execute_result"
    }
   ],
   "source": [
    "# let's compare AD result with analytical calculation\n",
    "\n",
    "var_x = Variable(3, 1)\n",
    "var_y = Variable(2, 0)\n",
    "\n",
    "var_y + var_y*var_x + var_y*var_x**2"
   ]
  },
  {
   "cell_type": "code",
   "execution_count": null,
   "metadata": {},
   "outputs": [],
   "source": []
  },
  {
   "cell_type": "code",
   "execution_count": null,
   "metadata": {},
   "outputs": [],
   "source": []
  },
  {
   "cell_type": "markdown",
   "metadata": {},
   "source": [
    "<img src=\"images/pytorch.png\" />"
   ]
  },
  {
   "cell_type": "code",
   "execution_count": 11,
   "metadata": {},
   "outputs": [],
   "source": [
    "import numpy as np\n",
    "\n",
    "import torch\n",
    "from torch.autograd import Variable"
   ]
  },
  {
   "cell_type": "code",
   "execution_count": 12,
   "metadata": {},
   "outputs": [
    {
     "name": "stdout",
     "output_type": "stream",
     "text": [
      "tensor([ 26.]) tensor([ 14.]) tensor([ 13.])\n"
     ]
    }
   ],
   "source": [
    "# now let's use pyTorch Variable instead ours\n",
    "\n",
    "x = torch.FloatTensor(np.array([3]))\n",
    "y = torch.FloatTensor(np.array([2]))\n",
    "\n",
    "var_x = Variable(x, requires_grad=True)\n",
    "var_y = Variable(y, requires_grad=True)\n",
    "\n",
    "z = var_y + var_y*var_x + var_y*var_x**2\n",
    "z.backward()\n",
    "\n",
    "print(z, var_x.grad, var_y.grad)"
   ]
  },
  {
   "cell_type": "markdown",
   "metadata": {},
   "source": [
    "<img src=\"images/tensor.png\" width=640 />"
   ]
  },
  {
   "cell_type": "markdown",
   "metadata": {},
   "source": [
    "- A **torch.Tensor** is a multi-dimensional matrix containing elements of a single data type.\n",
    "  - https://pytorch.org/docs/stable/tensors.html\n",
    "- behaviour of **torch.Tensor** is more or less similar to what you expect from numpy\n",
    "  - constructors, type conversion, indexing, etc\n",
    "\n",
    "|Data type | dtype | CPU tensor |\n",
    "|----------|-------|------------|\n",
    "|32-bit floating point | torch.float32 or torch.float | torch.FloatTensor |\n",
    "|64-bit floating point | torch.float64 or torch.double | torch.DoubleTensor |\n",
    "|16-bit floating point | torch.float16 or torch.half | torch.HalfTensor |\n",
    "|8-bit integer (unsigned) | torch.uint8 | torch.ByteTensor |\n",
    "|8-bit integer (signed) | torch.int8 | torch.CharTensor |\n",
    "|16-bit integer (signed) | torch.int16 or torch.short | torch.ShortTensor |\n",
    "|32-bit integer (signed) | torch.int32 or torch.int | torch.IntTensor |\n",
    "|64-bit integer (signed) | torch.int64 or torch.long | torch.LongTensor |\n"
   ]
  },
  {
   "cell_type": "code",
   "execution_count": 13,
   "metadata": {},
   "outputs": [
    {
     "name": "stdout",
     "output_type": "stream",
     "text": [
      "torch.Size([4, 2])\n",
      "torch.int32\n",
      "tensor([[ 1.0582e+09,  3.2651e+04],\n",
      "        [ 9.0297e+07,  0.0000e+00],\n",
      "        [ 8.7637e+08,  3.2651e+04],\n",
      "        [ 1.0920e+07,  0.0000e+00]], dtype=torch.int32)\n"
     ]
    }
   ],
   "source": [
    "# we can crate tensor given size with a garbage\n",
    "\n",
    "x = torch.IntTensor(4, 2)\n",
    "\n",
    "print(x.shape)\n",
    "print(x.dtype)\n",
    "print(x)"
   ]
  },
  {
   "cell_type": "code",
   "execution_count": 14,
   "metadata": {},
   "outputs": [
    {
     "name": "stdout",
     "output_type": "stream",
     "text": [
      "torch.Size([2, 2])\n",
      "torch.int32\n",
      "tensor([[ 1,  2],\n",
      "        [ 3,  4]], dtype=torch.int32)\n"
     ]
    }
   ],
   "source": [
    "# we can crate tensor from list\n",
    "\n",
    "x = torch.IntTensor([[1, 2], [3, 4]])\n",
    "\n",
    "print(x.shape)\n",
    "print(x.dtype)\n",
    "print(x)"
   ]
  },
  {
   "cell_type": "code",
   "execution_count": 15,
   "metadata": {},
   "outputs": [
    {
     "name": "stdout",
     "output_type": "stream",
     "text": [
      "torch.Size([3, 2])\n",
      "torch.uint8\n",
      "tensor([[ 4,  2],\n",
      "        [ 3,  4],\n",
      "        [ 1,  3]], dtype=torch.uint8)\n"
     ]
    }
   ],
   "source": [
    "# we can crate tensor numpy\n",
    "\n",
    "x = torch.from_numpy(\n",
    "    np.random.binomial(10, 0.25, size=(3, 2)).astype(np.uint8)\n",
    ")\n",
    "\n",
    "print(x.shape)\n",
    "print(x.dtype)\n",
    "print(x)"
   ]
  },
  {
   "cell_type": "code",
   "execution_count": 16,
   "metadata": {},
   "outputs": [
    {
     "name": "stdout",
     "output_type": "stream",
     "text": [
      "torch.Size([3, 2])\n",
      "torch.float64\n",
      "tensor([[ 0.,  0.],\n",
      "        [ 0.,  0.],\n",
      "        [ 0.,  0.]], dtype=torch.float64)\n"
     ]
    }
   ],
   "source": [
    "# we can init tensor with zeros or ones of selected type\n",
    "\n",
    "x = torch.zeros((3, 2), dtype=torch.float64)\n",
    "y = torch.ones((3, 2), dtype=torch.float64)\n",
    "\n",
    "print(x.shape)\n",
    "print(x.dtype)\n",
    "print(x)"
   ]
  },
  {
   "cell_type": "code",
   "execution_count": 17,
   "metadata": {},
   "outputs": [
    {
     "name": "stdout",
     "output_type": "stream",
     "text": [
      "torch.Size([3, 2])\n",
      "torch.float32\n",
      "tensor([[ 11.,  11.],\n",
      "        [ 11.,  11.],\n",
      "        [ 11.,  11.]])\n"
     ]
    }
   ],
   "source": [
    "# we can init tensor with any value\n",
    "\n",
    "x = torch.FloatTensor(3, 2).fill_(11)\n",
    "\n",
    "print(x.shape)\n",
    "print(x.dtype)\n",
    "print(x)"
   ]
  },
  {
   "cell_type": "code",
   "execution_count": 18,
   "metadata": {},
   "outputs": [
    {
     "name": "stdout",
     "output_type": "stream",
     "text": [
      "torch.Size([3, 2, 2])\n",
      "torch.float32\n",
      "tensor([[[ 0.7994, -0.6918],\n",
      "         [-1.2661,  2.5414]],\n",
      "\n",
      "        [[-0.5406,  0.7869],\n",
      "         [-0.9609, -0.9793]],\n",
      "\n",
      "        [[-0.3016,  1.0421],\n",
      "         [ 0.8090,  2.3168]]])\n"
     ]
    }
   ],
   "source": [
    "# we can sample random tensor from a distribution\n",
    "\n",
    "x = torch.zeros((3, 2, 2), dtype=torch.float32).normal_(0, 1)\n",
    "\n",
    "print(x.shape)\n",
    "print(x.dtype)\n",
    "print(x)"
   ]
  },
  {
   "cell_type": "code",
   "execution_count": 19,
   "metadata": {},
   "outputs": [
    {
     "name": "stdout",
     "output_type": "stream",
     "text": [
      "torch.Size([3, 2, 2])\n",
      "torch.float64\n",
      "tensor([[[-0.8721,  0.6171],\n",
      "         [-0.3237,  0.2102]],\n",
      "\n",
      "        [[-0.3559,  0.8682],\n",
      "         [-0.5206,  1.4422]],\n",
      "\n",
      "        [[-0.0168, -0.1851],\n",
      "         [-0.0325,  0.4553]]], dtype=torch.float64)\n"
     ]
    }
   ],
   "source": [
    "# we can change type of tensor\n",
    "\n",
    "x = torch.zeros((3, 2, 2), dtype=torch.float32).normal_(0, 1).double()\n",
    "\n",
    "print(x.shape)\n",
    "print(x.dtype)\n",
    "print(x)"
   ]
  },
  {
   "cell_type": "code",
   "execution_count": 20,
   "metadata": {},
   "outputs": [
    {
     "name": "stdout",
     "output_type": "stream",
     "text": [
      "torch.Size([3, 2, 2])\n",
      "torch.int32\n",
      "tensor([[[  0,   1],\n",
      "         [  2,   3]],\n",
      "\n",
      "        [[  4,   5],\n",
      "         [  6,   7]],\n",
      "\n",
      "        [[  8,   9],\n",
      "         [ 10,  11]]], dtype=torch.int32)\n"
     ]
    }
   ],
   "source": [
    "# you can reshape it (yes, it still will be differentiable)\n",
    "\n",
    "x = torch.from_numpy(\n",
    "    np.arange(12).astype(np.int32).reshape((3, 4))\n",
    ").reshape((3, 2, 2))\n",
    "\n",
    "print(x.shape)\n",
    "print(x.dtype)\n",
    "print(x)"
   ]
  },
  {
   "cell_type": "code",
   "execution_count": 21,
   "metadata": {},
   "outputs": [
    {
     "name": "stdout",
     "output_type": "stream",
     "text": [
      "torch.Size([10, 3, 100, 100])\n",
      "torch.float32\n",
      "tensor([[ 0.6588, -0.4147,  0.5716, -0.0323],\n",
      "        [ 0.7451, -0.1492,  1.9442,  1.1323],\n",
      "        [ 0.4084, -0.5069, -1.7929, -1.1909],\n",
      "        [-0.8499, -0.2209, -0.7999, -0.6901]])\n"
     ]
    }
   ],
   "source": [
    "# you ran index tensors an it would be numpy array\n",
    "\n",
    "batch_size = 10\n",
    "channels = 3\n",
    "wight = 100\n",
    "height = 100\n",
    "\n",
    "batch = torch.FloatTensor(batch_size, channels, wight, height).normal_(0, 1)\n",
    "\n",
    "print(batch.shape)\n",
    "print(batch.dtype)\n",
    "print(batch[1, 1, :4, :4])"
   ]
  },
  {
   "cell_type": "markdown",
   "metadata": {},
   "source": [
    "# Operations \n",
    "<img src=\"images/implicit.png\" width=640 />"
   ]
  },
  {
   "cell_type": "code",
   "execution_count": 22,
   "metadata": {},
   "outputs": [
    {
     "data": {
      "text/plain": [
       "tensor([[ 2.,  2.],\n",
       "        [ 2.,  2.]])"
      ]
     },
     "execution_count": 22,
     "metadata": {},
     "output_type": "execute_result"
    }
   ],
   "source": [
    "# if operation doesn't change shape and type then it has inplace alternative\n",
    "\n",
    "x = torch.ones((2, 2), dtype=torch.float32)\n",
    "y = torch.ones((2, 2), dtype=torch.float32)\n",
    "\n",
    "z = x.add(y)\n",
    "z = torch.add(x, y)\n",
    "z = x + y\n",
    "x.add_(y)"
   ]
  },
  {
   "cell_type": "markdown",
   "metadata": {},
   "source": [
    "Too many of different operations:\n",
    "- Point-wise operations\n",
    "  - `abs`, `cos`, `atan`, ...\n",
    "- Reduction operations\n",
    "  - `cumsum`, `mean`, `sum`, ...\n",
    "- Comparison operation\n",
    "  - `eq`, `ge`, `max`, ...\n",
    "- Matrix-Matrix operations\n",
    "  - `dot`, `addmm`, ...\n",
    "- ..."
   ]
  },
  {
   "cell_type": "markdown",
   "metadata": {},
   "source": [
    "# Broadcasting\n",
    "<img src=\"images/broadcasting.png\" width=640 />"
   ]
  },
  {
   "cell_type": "markdown",
   "metadata": {},
   "source": [
    "Two tensors are _broadcastable_ if the following rules hold:\n",
    "- Each tensor has at least one dimension.\n",
    "- When iterating over the dimension sizes, starting at the trailing dimension, the dimension sizes must either be equal, one of them is 1, or one of them does not exist.\n",
    "\n",
    "If two tensors `x`, `y` are _broadcastable_, the resulting tensor size is calculated as follows:\n",
    "- If the number of dimensions of x and y are not equal, prepend 1 to the dimensions of the tensor with fewer dimensions to make them equal length.\n",
    "- Then, for each dimension size, the resulting dimension size is the max of the sizes of x and y along that dimension.\n",
    "\n",
    "https://pytorch.org/docs/stable/notes/broadcasting.html"
   ]
  },
  {
   "cell_type": "code",
   "execution_count": 23,
   "metadata": {},
   "outputs": [
    {
     "name": "stdout",
     "output_type": "stream",
     "text": [
      "torch.Size([10, 3, 100, 100])\n",
      "torch.Size([10, 3, 100, 100])\n",
      "300000\n",
      "tensor([[ 1.,  1.,  1.],\n",
      "        [ 1.,  1.,  1.],\n",
      "        [ 1.,  1.,  1.]])\n"
     ]
    }
   ],
   "source": [
    "# image normalization, straightforward way\n",
    "\n",
    "batch_size = 10\n",
    "channels = 3\n",
    "wight = 100\n",
    "height = 100\n",
    "\n",
    "batch = torch.FloatTensor(batch_size, channels, wight, height).fill_(2)\n",
    "print(batch.shape)\n",
    "\n",
    "r_mean = torch.FloatTensor(100, 100).fill_(1)\n",
    "g_mean = torch.FloatTensor(100, 100).fill_(1)\n",
    "b_mean = torch.FloatTensor(100, 100).fill_(1)\n",
    "rgb_mean = torch.stack(\n",
    "    [torch.stack([r_mean, g_mean, b_mean])]*batch.shape[0]\n",
    ")\n",
    "print(rgb_mean.shape)\n",
    "print(np.prod(rgb_mean.shape))\n",
    "\n",
    "print((batch - rgb_mean)[0, 0, :3, :3])"
   ]
  },
  {
   "cell_type": "code",
   "execution_count": 24,
   "metadata": {},
   "outputs": [
    {
     "name": "stdout",
     "output_type": "stream",
     "text": [
      "torch.Size([10, 3, 100, 100])\n",
      "torch.Size([3, 1, 1])\n",
      "tensor([[ 1.,  1.,  1.],\n",
      "        [ 1.,  1.,  1.],\n",
      "        [ 1.,  1.,  1.]])\n"
     ]
    }
   ],
   "source": [
    "# image normalization, broadcasting way\n",
    "\n",
    "batch_size = 10\n",
    "channels = 3\n",
    "wight = 100\n",
    "height = 100\n",
    "\n",
    "batch = torch.FloatTensor(batch_size, channels, wight, height).fill_(2)\n",
    "print(batch.shape)\n",
    "\n",
    "rgb_mean = torch.FloatTensor([1, 1, 1]).reshape((3, 1, 1))\n",
    "print(rgb_mean.shape)\n",
    "\n",
    "print((batch - rgb_mean)[0, 0, :3, :3])"
   ]
  },
  {
   "cell_type": "code",
   "execution_count": 25,
   "metadata": {},
   "outputs": [],
   "source": [
    "# numpy <-> tensor\n",
    "\n",
    "x = torch.ones((3, 2))\n",
    "y = x.numpy()\n",
    "z = torch.from_numpy(y)"
   ]
  },
  {
   "cell_type": "markdown",
   "metadata": {},
   "source": [
    "# Using GPU\n",
    "<img src=\"images/gpu.jpg\" width=640 />"
   ]
  },
  {
   "cell_type": "code",
   "execution_count": 26,
   "metadata": {},
   "outputs": [
    {
     "name": "stdout",
     "output_type": "stream",
     "text": [
      "False\n",
      "861.328125\n",
      "0.8251953125\n"
     ]
    }
   ],
   "source": [
    "x = torch.FloatTensor(1500, 3, 224, 224)\n",
    "print(x.is_cuda)\n",
    "print(np.prod(x.shape)*4/1024**2)\n",
    "print(torch.cuda.memory_allocated()/1024**2)"
   ]
  },
  {
   "cell_type": "code",
   "execution_count": 27,
   "metadata": {},
   "outputs": [
    {
     "name": "stdout",
     "output_type": "stream",
     "text": [
      "Thu Jun 28 19:55:30 2018       \r\n",
      "+-----------------------------------------------------------------------------+\r\n",
      "| NVIDIA-SMI 384.81                 Driver Version: 384.81                    |\r\n",
      "|-------------------------------+----------------------+----------------------+\r\n",
      "| GPU  Name        Persistence-M| Bus-Id        Disp.A | Volatile Uncorr. ECC |\r\n",
      "| Fan  Temp  Perf  Pwr:Usage/Cap|         Memory-Usage | GPU-Util  Compute M. |\r\n",
      "|===============================+======================+======================|\r\n",
      "|   0  GeForce GTX 1080    Off  | 00000000:02:00.0 Off |                  N/A |\r\n",
      "|  0%   51C    P0    48W / 240W |     10MiB /  8112MiB |      0%      Default |\r\n",
      "+-------------------------------+----------------------+----------------------+\r\n",
      "|   1  GeForce GTX 108...  Off  | 00000000:03:00.0 Off |                  N/A |\r\n",
      "|  0%   43C    P2    73W / 320W |    521MiB / 11172MiB |     10%      Default |\r\n",
      "+-------------------------------+----------------------+----------------------+\r\n",
      "                                                                               \r\n",
      "+-----------------------------------------------------------------------------+\r\n",
      "| Processes:                                                       GPU Memory |\r\n",
      "|  GPU       PID   Type   Process name                             Usage      |\r\n",
      "|=============================================================================|\r\n",
      "|    1      4211      C   /usr/bin/python3                             511MiB |\r\n",
      "+-----------------------------------------------------------------------------+\r\n"
     ]
    }
   ],
   "source": [
    "!nvidia-smi"
   ]
  },
  {
   "cell_type": "code",
   "execution_count": 28,
   "metadata": {},
   "outputs": [
    {
     "name": "stdout",
     "output_type": "stream",
     "text": [
      "True\n"
     ]
    }
   ],
   "source": [
    "x = x.cuda()\n",
    "print(x.is_cuda)"
   ]
  },
  {
   "cell_type": "code",
   "execution_count": 29,
   "metadata": {},
   "outputs": [
    {
     "name": "stdout",
     "output_type": "stream",
     "text": [
      "Thu Jun 28 19:55:31 2018       \r\n",
      "+-----------------------------------------------------------------------------+\r\n",
      "| NVIDIA-SMI 384.81                 Driver Version: 384.81                    |\r\n",
      "|-------------------------------+----------------------+----------------------+\r\n",
      "| GPU  Name        Persistence-M| Bus-Id        Disp.A | Volatile Uncorr. ECC |\r\n",
      "| Fan  Temp  Perf  Pwr:Usage/Cap|         Memory-Usage | GPU-Util  Compute M. |\r\n",
      "|===============================+======================+======================|\r\n",
      "|   0  GeForce GTX 1080    Off  | 00000000:02:00.0 Off |                  N/A |\r\n",
      "|  0%   51C    P0    48W / 240W |     10MiB /  8112MiB |      0%      Default |\r\n",
      "+-------------------------------+----------------------+----------------------+\r\n",
      "|   1  GeForce GTX 108...  Off  | 00000000:03:00.0 Off |                  N/A |\r\n",
      "|  0%   45C    P2    96W / 320W |   1383MiB / 11172MiB |    100%      Default |\r\n",
      "+-------------------------------+----------------------+----------------------+\r\n",
      "                                                                               \r\n",
      "+-----------------------------------------------------------------------------+\r\n",
      "| Processes:                                                       GPU Memory |\r\n",
      "|  GPU       PID   Type   Process name                             Usage      |\r\n",
      "|=============================================================================|\r\n",
      "|    1      4211      C   /usr/bin/python3                            1373MiB |\r\n",
      "+-----------------------------------------------------------------------------+\r\n"
     ]
    }
   ],
   "source": [
    "!nvidia-smi"
   ]
  },
  {
   "cell_type": "code",
   "execution_count": 30,
   "metadata": {},
   "outputs": [
    {
     "name": "stdout",
     "output_type": "stream",
     "text": [
      "861.328125\n",
      "862.2001953125\n"
     ]
    }
   ],
   "source": [
    "print(np.prod(x.shape)*4/1024**2)\n",
    "print(torch.cuda.memory_allocated()/1024**2)"
   ]
  },
  {
   "cell_type": "code",
   "execution_count": 31,
   "metadata": {},
   "outputs": [
    {
     "name": "stdout",
     "output_type": "stream",
     "text": [
      "False\n",
      "0.8251953125\n"
     ]
    }
   ],
   "source": [
    "x = x.cpu()\n",
    "print(x.is_cuda)\n",
    "print(torch.cuda.memory_allocated()/1024**2)"
   ]
  },
  {
   "cell_type": "code",
   "execution_count": 32,
   "metadata": {},
   "outputs": [
    {
     "name": "stdout",
     "output_type": "stream",
     "text": [
      "0.8251953125\n"
     ]
    }
   ],
   "source": [
    "import gc\n",
    "del(x)\n",
    "gc.collect()\n",
    "\n",
    "print(torch.cuda.memory_allocated()/1024**2)"
   ]
  },
  {
   "cell_type": "code",
   "execution_count": 33,
   "metadata": {},
   "outputs": [
    {
     "name": "stdout",
     "output_type": "stream",
     "text": [
      "Thu Jun 28 19:55:32 2018       \r\n",
      "+-----------------------------------------------------------------------------+\r\n",
      "| NVIDIA-SMI 384.81                 Driver Version: 384.81                    |\r\n",
      "|-------------------------------+----------------------+----------------------+\r\n",
      "| GPU  Name        Persistence-M| Bus-Id        Disp.A | Volatile Uncorr. ECC |\r\n",
      "| Fan  Temp  Perf  Pwr:Usage/Cap|         Memory-Usage | GPU-Util  Compute M. |\r\n",
      "|===============================+======================+======================|\r\n",
      "|   0  GeForce GTX 1080    Off  | 00000000:02:00.0 Off |                  N/A |\r\n",
      "|  0%   51C    P0    48W / 240W |     10MiB /  8112MiB |      0%      Default |\r\n",
      "+-------------------------------+----------------------+----------------------+\r\n",
      "|   1  GeForce GTX 108...  Off  | 00000000:03:00.0 Off |                  N/A |\r\n",
      "|  0%   45C    P2    97W / 320W |   1383MiB / 11172MiB |      0%      Default |\r\n",
      "+-------------------------------+----------------------+----------------------+\r\n",
      "                                                                               \r\n",
      "+-----------------------------------------------------------------------------+\r\n",
      "| Processes:                                                       GPU Memory |\r\n",
      "|  GPU       PID   Type   Process name                             Usage      |\r\n",
      "|=============================================================================|\r\n",
      "|    1      4211      C   /usr/bin/python3                            1373MiB |\r\n",
      "+-----------------------------------------------------------------------------+\r\n"
     ]
    }
   ],
   "source": [
    "!nvidia-smi"
   ]
  },
  {
   "cell_type": "code",
   "execution_count": 34,
   "metadata": {},
   "outputs": [],
   "source": [
    "with torch.cuda.device(0):\n",
    "    x = torch.FloatTensor(1500, 3, 224, 224).cuda()\n",
    "with torch.cuda.device(1):\n",
    "    y = torch.FloatTensor(1500, 3, 224, 224).cuda()"
   ]
  },
  {
   "cell_type": "code",
   "execution_count": 35,
   "metadata": {},
   "outputs": [
    {
     "name": "stdout",
     "output_type": "stream",
     "text": [
      "Thu Jun 28 19:55:36 2018       \r\n",
      "+-----------------------------------------------------------------------------+\r\n",
      "| NVIDIA-SMI 384.81                 Driver Version: 384.81                    |\r\n",
      "|-------------------------------+----------------------+----------------------+\r\n",
      "| GPU  Name        Persistence-M| Bus-Id        Disp.A | Volatile Uncorr. ECC |\r\n",
      "| Fan  Temp  Perf  Pwr:Usage/Cap|         Memory-Usage | GPU-Util  Compute M. |\r\n",
      "|===============================+======================+======================|\r\n",
      "|   0  GeForce GTX 1080    Off  | 00000000:02:00.0 Off |                  N/A |\r\n",
      "|  0%   52C    P2    45W / 240W |   1343MiB /  8112MiB |     36%      Default |\r\n",
      "+-------------------------------+----------------------+----------------------+\r\n",
      "|   1  GeForce GTX 108...  Off  | 00000000:03:00.0 Off |                  N/A |\r\n",
      "|  0%   44C    P2    74W / 320W |   1383MiB / 11172MiB |      0%      Default |\r\n",
      "+-------------------------------+----------------------+----------------------+\r\n",
      "                                                                               \r\n",
      "+-----------------------------------------------------------------------------+\r\n",
      "| Processes:                                                       GPU Memory |\r\n",
      "|  GPU       PID   Type   Process name                             Usage      |\r\n",
      "|=============================================================================|\r\n",
      "|    0      4211      C   /usr/bin/python3                            1333MiB |\r\n",
      "|    1      4211      C   /usr/bin/python3                            1373MiB |\r\n",
      "+-----------------------------------------------------------------------------+\r\n"
     ]
    }
   ],
   "source": [
    "!nvidia-smi"
   ]
  },
  {
   "cell_type": "code",
   "execution_count": 36,
   "metadata": {},
   "outputs": [
    {
     "data": {
      "text/plain": [
       "175"
      ]
     },
     "execution_count": 36,
     "metadata": {},
     "output_type": "execute_result"
    }
   ],
   "source": [
    "del(x, y)\n",
    "gc.collect()"
   ]
  },
  {
   "cell_type": "code",
   "execution_count": null,
   "metadata": {},
   "outputs": [],
   "source": []
  },
  {
   "cell_type": "markdown",
   "metadata": {},
   "source": [
    "# pyTorch = Numpy + AD + GPU\n",
    "\n",
    "<img src=\"images/puzzle.jpg\" width=640 />"
   ]
  },
  {
   "cell_type": "code",
   "execution_count": 37,
   "metadata": {},
   "outputs": [
    {
     "name": "stdout",
     "output_type": "stream",
     "text": [
      "(150, 4)\n",
      "['sepal length (cm)', 'sepal width (cm)', 'petal length (cm)', 'petal width (cm)']\n",
      "[[-0.90068117  1.03205722 -1.3412724  -1.31297673]\n",
      " [-1.14301691 -0.1249576  -1.3412724  -1.31297673]\n",
      " [-1.38535265  0.33784833 -1.39813811 -1.31297673]\n",
      " [-1.50652052  0.10644536 -1.2844067  -1.31297673]\n",
      " [-1.02184904  1.26346019 -1.3412724  -1.31297673]]\n",
      "['setosa' 'versicolor' 'virginica']\n",
      "Target:\n",
      "2    50\n",
      "1    50\n",
      "0    50\n",
      "dtype: int64\n"
     ]
    }
   ],
   "source": [
    "import pandas as pd\n",
    "from sklearn.datasets import load_iris\n",
    "from sklearn.preprocessing import StandardScaler\n",
    "\n",
    "data = load_iris()\n",
    "data.data = StandardScaler().fit_transform(data.data)\n",
    "print(data.data.shape)\n",
    "print(data.feature_names)\n",
    "print(data.data[:5, :])\n",
    "print(data.target_names)\n",
    "print('Target:')\n",
    "print(pd.Series(data.target).value_counts())"
   ]
  },
  {
   "cell_type": "markdown",
   "metadata": {},
   "source": [
    "# Logistic Regression\n",
    "\n",
    "Assume we have $K$ classes and $N$ sample in a dataset $D$:\n",
    "\n",
    "$$\\Large\n",
    "\\begin{array}{rcl}\n",
    "P\\left(y = k \\mid \\vec{x}\\right) &=& \\dfrac{P\\left(\\vec{x} \\mid y = k\\right)P\\left(y = k\\right)}{\\sum_{i = 1}^k P\\left(\\vec{x} \\mid y = i\\right)P\\left(y = i\\right)} \\\\\n",
    "P\\left(y = k \\mid \\vec{x}\\right) &=& \\dfrac{e^{\\vec{w}_k \\cdot \\vec{x}}}{\\sum_{i = 1}^k e^{\\vec{w}_i \\cdot \\vec{x}}} = \\text{softmax}\\left(\\vec{w}_k \\cdot \\vec{x}\\right) \\\\\n",
    "\\hat{p}_{kn} &=& P\\left(y = k \\mid \\vec{x}_n\\right)\n",
    "\\end{array}\n",
    "$$"
   ]
  },
  {
   "cell_type": "markdown",
   "metadata": {},
   "source": [
    "# Cost function\n",
    "\n",
    "We use cross entropy as a loss, assume that we have :\n",
    "\n",
    "$$\\Large\n",
    "\\begin{array}{rcl}\n",
    "\\mathcal{L}\\left(D\\right) &=& -\\sum_{n=1}^N \\sum_{k=1}^K p_{kn} \\log \\hat{p}_{kn} \\\\\n",
    "&=& -\\sum_{n=1}^N \\sum_{k=1}^K I\\left[y = k\\right] \\log P\\left(y = k \\mid \\vec{x}_n\\right)\n",
    "\\end{array}\n",
    "$$"
   ]
  },
  {
   "cell_type": "code",
   "execution_count": 38,
   "metadata": {},
   "outputs": [
    {
     "name": "stdout",
     "output_type": "stream",
     "text": [
      "tensor([[-0.0009,  0.0688, -0.0243],\n",
      "        [ 0.0604,  0.0069,  0.0323],\n",
      "        [-0.0388, -0.0308,  0.0195],\n",
      "        [ 0.1750,  0.1549,  0.1104],\n",
      "        [ 0.0550, -0.0095,  0.0995]])\n"
     ]
    }
   ],
   "source": [
    "# prepare data matrix\n",
    "X = torch.from_numpy(np.column_stack([np.ones(data.data.shape[0]), data.data])).float()\n",
    "\n",
    "# prepare target variable\n",
    "y = data.target\n",
    "\n",
    "# initialize parameters of the logistic regression\n",
    "W = Variable(\n",
    "    torch.FloatTensor(X.shape[1], np.unique(y).shape[0]).normal_(0, 0.1), \n",
    "    requires_grad=True)\n",
    "\n",
    "print(W)"
   ]
  },
  {
   "cell_type": "code",
   "execution_count": 39,
   "metadata": {},
   "outputs": [
    {
     "data": {
      "application/vnd.jupyter.widget-view+json": {
       "model_id": "daf51705658c400888be531554cd381e",
       "version_major": 2,
       "version_minor": 0
      },
      "text/html": [
       "<p>Failed to display Jupyter Widget of type <code>HBox</code>.</p>\n",
       "<p>\n",
       "  If you're reading this message in the Jupyter Notebook or JupyterLab Notebook, it may mean\n",
       "  that the widgets JavaScript is still loading. If this message persists, it\n",
       "  likely means that the widgets JavaScript library is either not installed or\n",
       "  not enabled. See the <a href=\"https://ipywidgets.readthedocs.io/en/stable/user_install.html\">Jupyter\n",
       "  Widgets Documentation</a> for setup instructions.\n",
       "</p>\n",
       "<p>\n",
       "  If you're reading this message in another frontend (for example, a static\n",
       "  rendering on GitHub or <a href=\"https://nbviewer.jupyter.org/\">NBViewer</a>),\n",
       "  it may mean that your frontend doesn't currently support widgets.\n",
       "</p>\n"
      ],
      "text/plain": [
       "HBox(children=(IntProgress(value=0), HTML(value='')))"
      ]
     },
     "metadata": {},
     "output_type": "display_data"
    },
    {
     "name": "stdout",
     "output_type": "stream",
     "text": [
      "\n"
     ]
    },
    {
     "data": {
      "image/png": "[encoded data removed]",
      "text/plain": [
       "<matplotlib.figure.Figure at 0x7f8aa7bc0710>"
      ]
     },
     "metadata": {},
     "output_type": "display_data"
    }
   ],
   "source": [
    "from tqdm import tqdm_notebook\n",
    "\n",
    "# parameters of learning algorithm - SGD\n",
    "learning_rate = 0.001\n",
    "n_epoches = 100\n",
    "tolerance = 1e-8\n",
    "\n",
    "# logging\n",
    "loss_glog = []\n",
    "acc_glob = []\n",
    "\n",
    "# epoch - one pass through dataset\n",
    "for ix_epoch in tqdm_notebook(range(n_epoches)):\n",
    "    acc_epoch = 0\n",
    "    loss_epoch = 0\n",
    "    # iterate over dataset\n",
    "    for n in np.random.choice(range(X.shape[0]), size=X.shape[0]):\n",
    "        # prepare variable without gradients\n",
    "        x = Variable(X[n, :])\n",
    "\n",
    "        # compute softmax\n",
    "        log_p = torch.mv(W.t(), x)\n",
    "        p_numerator = torch.exp(log_p)\n",
    "        p_denominator = p_numerator.sum()\n",
    "        p = p_numerator/p_denominator\n",
    "\n",
    "        # check prediction\n",
    "        k = p.argmax(0).item()\n",
    "        acc_epoch += y[n] == k\n",
    "\n",
    "        # compute loss\n",
    "        loss = -torch.log(\n",
    "            torch.clamp(p[y[n]], tolerance, 1 - tolerance)\n",
    "        )\n",
    "        loss_epoch += loss.item()\n",
    "\n",
    "        # propagate grawients - modify current parameters\n",
    "        loss.backward()\n",
    "        W.data -= learning_rate*W.grad\n",
    "        W.grad.zero_()\n",
    "        \n",
    "    # save epoch stats\n",
    "    acc_glob.append(acc_epoch/X.shape[0])\n",
    "    loss_glog.append(loss_epoch/X.shape[0])\n",
    "    \n",
    "# plot logs\n",
    "plt.plot(loss_glog, label='loss')\n",
    "plt.plot(acc_glob, label='accuracy')\n",
    "plt.legend()\n",
    "plt.title('Learning curves')\n",
    "plt.show()"
   ]
  },
  {
   "cell_type": "markdown",
   "metadata": {},
   "source": [
    "# Logistic regression = NN with one linear layer + Softmax activation\n",
    "\n",
    "<img src=\"images/lr.png\" />"
   ]
  },
  {
   "cell_type": "code",
   "execution_count": 40,
   "metadata": {},
   "outputs": [
    {
     "data": {
      "application/vnd.jupyter.widget-view+json": {
       "model_id": "d3f3ddb02ec14cbf9d30598567c5ba3e",
       "version_major": 2,
       "version_minor": 0
      },
      "text/html": [
       "<p>Failed to display Jupyter Widget of type <code>HBox</code>.</p>\n",
       "<p>\n",
       "  If you're reading this message in the Jupyter Notebook or JupyterLab Notebook, it may mean\n",
       "  that the widgets JavaScript is still loading. If this message persists, it\n",
       "  likely means that the widgets JavaScript library is either not installed or\n",
       "  not enabled. See the <a href=\"https://ipywidgets.readthedocs.io/en/stable/user_install.html\">Jupyter\n",
       "  Widgets Documentation</a> for setup instructions.\n",
       "</p>\n",
       "<p>\n",
       "  If you're reading this message in another frontend (for example, a static\n",
       "  rendering on GitHub or <a href=\"https://nbviewer.jupyter.org/\">NBViewer</a>),\n",
       "  it may mean that your frontend doesn't currently support widgets.\n",
       "</p>\n"
      ],
      "text/plain": [
       "HBox(children=(IntProgress(value=0), HTML(value='')))"
      ]
     },
     "metadata": {},
     "output_type": "display_data"
    },
    {
     "name": "stdout",
     "output_type": "stream",
     "text": [
      "\n"
     ]
    },
    {
     "data": {
      "image/png": "[encoded data removed]",
      "text/plain": [
       "<matplotlib.figure.Figure at 0x7f8aaa01aa20>"
      ]
     },
     "metadata": {},
     "output_type": "display_data"
    }
   ],
   "source": [
    "from torch import nn\n",
    "from torch import optim\n",
    "\n",
    "# create one linear layer \n",
    "model = nn.Sequential()\n",
    "model.add_module(\n",
    "    'linear',\n",
    "    nn.Linear(X.shape[1], np.unique(y).shape[0], bias=False)\n",
    ")\n",
    "\n",
    "# create cross entropy loss\n",
    "criterion = nn.CrossEntropyLoss()\n",
    "\n",
    "# create SGD optimizer without momentum\n",
    "optimizer = optim.SGD(\n",
    "    model.parameters(), \n",
    "    lr=0.01, \n",
    "    momentum=0.0\n",
    ")\n",
    "\n",
    "loss_glog = []\n",
    "acc_glob = []\n",
    "\n",
    "for ix_epoch in tqdm_notebook(range(n_epoches)):\n",
    "    acc_epoch = 0\n",
    "    loss_epoch = 0\n",
    "    for n in np.random.choice(range(X.shape[0]), size=X.shape[0]):\n",
    "        x = Variable(X[n, :].reshape(1, X.shape[1]))\n",
    "        yi = Variable(torch.from_numpy(np.array([y[n]]).astype(np.int64)))\n",
    "        \n",
    "        # calculate log of probabilities\n",
    "        log_p = model(x)\n",
    "        \n",
    "        # calculate loss\n",
    "        loss = criterion(log_p, yi)\n",
    "        \n",
    "        # make gradient step\n",
    "        optimizer.zero_grad()\n",
    "        loss.backward()\n",
    "        optimizer.step()\n",
    "\n",
    "        loss_epoch += loss.item()\n",
    "        k = log_p.argmax(1).item()\n",
    "        acc_epoch += y[n] == k\n",
    "        \n",
    "    acc_glob.append(acc_epoch/X.shape[0])\n",
    "    loss_glog.append(loss_epoch/X.shape[0])\n",
    "    \n",
    "\n",
    "plt.plot(loss_glog, label='loss')\n",
    "plt.plot(acc_glob, label='accuracy')\n",
    "plt.legend()\n",
    "plt.title('Learning curves')\n",
    "plt.show()"
   ]
  },
  {
   "cell_type": "markdown",
   "metadata": {},
   "source": [
    "# Module: torch.nn\n",
    "- Containers\n",
    "  - `nn.Sequential`\n",
    "  - `nn.ModuleList`\n",
    "  - ...\n",
    "- Convolution layers\n",
    "  - `nn.Conv2d`\n",
    "  - `nn.ConvTranspose2d`\n",
    "  - ...\n",
    "- Pooling layers\n",
    "  - `nn.MaxPool2d`\n",
    "  - `nn.AvgPool3d`\n",
    "  - ...\n",
    "- Padding layers\n",
    "  - `nn.ReflectionPad1d`\n",
    "  - `nn.ZeroPad2d`\n",
    "  - ...\n",
    "- Non-linear activations\n",
    "  - `nn.Sigmoid`\n",
    "  - `nn.ReLU6`\n",
    "  - ...\n",
    "- Normalization layers\n",
    "  - `nn.BatchNorm2d`\n",
    "  - `nn.LocalResponseNorm`\n",
    "  - ...\n",
    "- Recurrent layers\n",
    "  - `nn.LSTM`\n",
    "  - `nn.GRU`\n",
    "  - ...\n",
    "- Other layers\n",
    "  - Dropout layers\n",
    "  - Sparse layers\n",
    "- Distance functions\n",
    "- Loss functions\n",
    "- Vision layers\n",
    "- DataParallel layers"
   ]
  },
  {
   "cell_type": "markdown",
   "metadata": {},
   "source": [
    "# Module: torch.optim\n",
    "\n",
    "- `optim.Adadelta`\n",
    "  - ADADELTA: An Adaptive Learning Rate Method\n",
    "- `optim.Adagrad`\n",
    "  - Adaptive Subgradient Methods for Online Learning and Stochastic Optimization\n",
    "- `optim.Adam`\n",
    "  - Adam: A Method for Stochastic Optimization\n",
    "- `optim.SparseAdam`\n",
    "- `optim.Adamax`\n",
    "  - Adam: A Method for Stochastic Optimization\n",
    "- `optim.ASGD`\n",
    "  -  Acceleration of stochastic approximation by averaging\n",
    "- `torch.optim.LBFGS`\n",
    "- `optim.RMSprop`\n",
    "- `optim.Rprop`\n",
    "- `optim.SGD`\n",
    "  - On the importance of initialization and momentum in deep learning\n",
    "\n",
    "## Adjusting LR\n",
    "- `optim.lr_scheduler.LambdaLR`\n",
    "- `optim.lr_scheduler.StepLR`\n",
    "- `optim.lr_scheduler.MultiStepLR`\n",
    "- ..."
   ]
  },
  {
   "cell_type": "code",
   "execution_count": null,
   "metadata": {},
   "outputs": [],
   "source": []
  },
  {
   "cell_type": "code",
   "execution_count": null,
   "metadata": {},
   "outputs": [],
   "source": []
  },
  {
   "cell_type": "markdown",
   "metadata": {},
   "source": [
    "<img src=\"images/gan.png\" width=640 />"
   ]
  },
  {
   "cell_type": "code",
   "execution_count": 41,
   "metadata": {},
   "outputs": [
    {
     "name": "stdout",
     "output_type": "stream",
     "text": [
      "60000\n"
     ]
    }
   ],
   "source": [
    "from torchvision import datasets\n",
    "from torchvision import transforms\n",
    "\n",
    "ds = datasets.MNIST(\n",
    "    '/home/mephistopheies/tmp/mnist/', \n",
    "    download=True,\n",
    "    transform=transforms.ToTensor()\n",
    ")\n",
    "\n",
    "\n",
    "print(len(ds))"
   ]
  },
  {
   "cell_type": "code",
   "execution_count": 42,
   "metadata": {},
   "outputs": [
    {
     "name": "stdout",
     "output_type": "stream",
     "text": [
      "torch.Size([1, 28, 28])\n"
     ]
    },
    {
     "data": {
      "image/png": "[encoded data removed]",
      "text/plain": [
       "<PIL.Image.Image image mode=L size=320x320 at 0x7F8AA7EE45C0>"
      ]
     },
     "execution_count": 42,
     "metadata": {},
     "output_type": "execute_result"
    }
   ],
   "source": [
    "from PIL import Image\n",
    "\n",
    "img, y = ds[0]\n",
    "\n",
    "print(img.shape)\n",
    "\n",
    "Image.fromarray((img[0, :, :].numpy()*255).astype(np.uint8)).resize((320, 320))"
   ]
  },
  {
   "cell_type": "code",
   "execution_count": 43,
   "metadata": {},
   "outputs": [
    {
     "name": "stdout",
     "output_type": "stream",
     "text": [
      "60000\n"
     ]
    }
   ],
   "source": [
    "ds = torch.utils.data.TensorDataset(\n",
    "    torch.stack([ds[i][0] for i in range(len(ds))]).cuda(),\n",
    "    torch.stack([ds[i][1] for i in range(len(ds))]).cuda()\n",
    ")\n",
    "\n",
    "print(len(ds))"
   ]
  },
  {
   "cell_type": "code",
   "execution_count": 57,
   "metadata": {},
   "outputs": [
    {
     "data": {
      "application/vnd.jupyter.widget-view+json": {
       "model_id": "b5dc64e2eb4a4401a9b3772b03662cf7",
       "version_major": 2,
       "version_minor": 0
      },
      "text/html": [
       "<p>Failed to display Jupyter Widget of type <code>HBox</code>.</p>\n",
       "<p>\n",
       "  If you're reading this message in the Jupyter Notebook or JupyterLab Notebook, it may mean\n",
       "  that the widgets JavaScript is still loading. If this message persists, it\n",
       "  likely means that the widgets JavaScript library is either not installed or\n",
       "  not enabled. See the <a href=\"https://ipywidgets.readthedocs.io/en/stable/user_install.html\">Jupyter\n",
       "  Widgets Documentation</a> for setup instructions.\n",
       "</p>\n",
       "<p>\n",
       "  If you're reading this message in another frontend (for example, a static\n",
       "  rendering on GitHub or <a href=\"https://nbviewer.jupyter.org/\">NBViewer</a>),\n",
       "  it may mean that your frontend doesn't currently support widgets.\n",
       "</p>\n"
      ],
      "text/plain": [
       "HBox(children=(IntProgress(value=0, max=1201), HTML(value='')))"
      ]
     },
     "metadata": {},
     "output_type": "display_data"
    },
    {
     "name": "stdout",
     "output_type": "stream",
     "text": [
      "torch.Size([50, 1, 28, 28]) True\n",
      "torch.Size([50]) True\n"
     ]
    }
   ],
   "source": [
    "import itertools as it\n",
    "\n",
    "batch_size = 50\n",
    "\n",
    "data_loader = torch.utils.data.DataLoader(    \n",
    "        ds,\n",
    "        batch_size=batch_size, \n",
    "        shuffle=True,\n",
    "        num_workers=0,\n",
    "        pin_memory=False\n",
    ")\n",
    "\n",
    "for X, y in tqdm_notebook(data_loader, total=int(np.floor(len(ds)/batch_size)) + 1):\n",
    "    print(X.shape, X.is_cuda)\n",
    "    print(y.shape, y.is_cuda)\n",
    "    break\n",
    "    \n",
    "# data_loader_cycle = it.cycle(data_loader)"
   ]
  },
  {
   "cell_type": "code",
   "execution_count": 169,
   "metadata": {},
   "outputs": [
    {
     "name": "stdout",
     "output_type": "stream",
     "text": [
      "torch.Size([25, 10])\n",
      "torch.Size([25, 243])\n",
      "torch.Size([25, 3, 9, 9])\n",
      "torch.Size([25, 6, 16, 16])\n",
      "torch.Size([25, 9, 30, 30])\n",
      "torch.Size([25, 1, 28, 28])\n"
     ]
    },
    {
     "data": {
      "image/png": "[encoded data removed]",
      "text/plain": [
       "<PIL.Image.Image image mode=L size=320x320 at 0x7F8A50812438>"
      ]
     },
     "execution_count": 169,
     "metadata": {},
     "output_type": "execute_result"
    }
   ],
   "source": [
    "import torch.nn.functional as F\n",
    "from collections import OrderedDict\n",
    "\n",
    "input_dim = 10\n",
    "\n",
    "class Generator(nn.Module):\n",
    "    \n",
    "    def __init__(self, input_dim=10):\n",
    "        super(Generator, self).__init__()\n",
    "        self.linear = nn.Linear(input_dim, 3*9*9, bias=False)\n",
    "        self.bn1 = nn.BatchNorm1d(3*9*9)\n",
    "        self.tconv1 = nn.ConvTranspose2d(\n",
    "            in_channels=3, \n",
    "            out_channels=6, \n",
    "            kernel_size=4, \n",
    "            stride=2, \n",
    "            padding=2, \n",
    "            bias=False)\n",
    "        self.bn2 = nn.BatchNorm2d(6)\n",
    "        self.tconv2 = nn.ConvTranspose2d(\n",
    "            in_channels=6, \n",
    "            out_channels=9, \n",
    "            kernel_size=4, \n",
    "            stride=2, \n",
    "            padding=2, \n",
    "            bias=False)\n",
    "        self.bn3 = nn.BatchNorm2d(9)\n",
    "        self.proj = nn.Conv2d(\n",
    "            in_channels=9, \n",
    "            out_channels=1, \n",
    "            kernel_size=3, \n",
    "            stride=1, \n",
    "            padding=0, \n",
    "            bias=False)\n",
    "        self.bn4 = nn.BatchNorm2d(1)\n",
    "    \n",
    "    def forward(self, X, debug=False):\n",
    "        if debug: \n",
    "            print(X.shape)\n",
    "        X = self.linear(X)\n",
    "        if debug: \n",
    "            print(X.shape)\n",
    "        X = self.bn1(X)\n",
    "        X = F.relu(X)   \n",
    "        X = X.view(-1, 3, 9, 9)\n",
    "        if debug: \n",
    "            print(X.shape)\n",
    "        X = self.tconv1(X)\n",
    "        if debug: \n",
    "            print(X.shape)\n",
    "        X = self.bn2(X)\n",
    "        X = F.relu(X)\n",
    "        X = self.tconv2(X)\n",
    "        if debug: \n",
    "            print(X.shape)\n",
    "        X = self.bn3(X)\n",
    "        X = F.relu(X)\n",
    "        X = self.proj(X)\n",
    "        X = self.bn4(X)\n",
    "        X = F.tanh(X)\n",
    "        if debug: \n",
    "            print(X.shape)\n",
    "        return X\n",
    "    \n",
    "generator = Generator(input_dim)\n",
    "\n",
    "\n",
    "X = Variable(torch.FloatTensor(25, 10).normal_(0, 1))\n",
    "X = generator(X, debug=True)\n",
    "\n",
    "img = X[0, 0, :].data.numpy()\n",
    "\n",
    "Image.fromarray((255*(img + 1)/2).astype(np.uint8)).resize((320, 320))"
   ]
  },
  {
   "cell_type": "code",
   "execution_count": 174,
   "metadata": {},
   "outputs": [
    {
     "name": "stdout",
     "output_type": "stream",
     "text": [
      "torch.Size([25])\n"
     ]
    },
    {
     "data": {
      "text/plain": [
       "tensor([ 0.5072,  0.5486,  0.4804,  0.4718,  0.5570,  0.5858,  0.6091,\n",
       "         0.4965,  0.5298,  0.4113,  0.5234,  0.4464,  0.5307,  0.5282,\n",
       "         0.5074,  0.6258,  0.5250,  0.5954,  0.5925,  0.6601,  0.5931,\n",
       "         0.5762,  0.6218,  0.4870,  0.4193])"
      ]
     },
     "execution_count": 174,
     "metadata": {},
     "output_type": "execute_result"
    }
   ],
   "source": [
    "class Discriminator(nn.Module):\n",
    "    \n",
    "    def __init__(self, input_width=28, input_height=28):\n",
    "        super(Discriminator, self).__init__()\n",
    "        self.seq_conv = nn.Sequential(\n",
    "            nn.Conv2d(1, 3, 4, 2, 0, bias=False),\n",
    "            nn.LeakyReLU(0.2, inplace=True),\n",
    "            nn.Conv2d(3, 6, 4, 2, 0, bias=False),\n",
    "            nn.BatchNorm2d(6),\n",
    "            nn.LeakyReLU(0.2, inplace=True),\n",
    "            nn.Conv2d(6, 12, 4, 2, 1, bias=False),\n",
    "            nn.BatchNorm2d(12),\n",
    "            nn.LeakyReLU(0.2, inplace=True),\n",
    "            nn.Conv2d(12, 24, 2, 1, 0, bias=False),\n",
    "            nn.BatchNorm2d(24),\n",
    "            nn.LeakyReLU(0.2, inplace=True),\n",
    "        )\n",
    "        self.linear = nn.Linear(24, 1, bias=False)        \n",
    "        \n",
    "    def forward(self, X):\n",
    "        X = self.seq_conv(X)\n",
    "        X = X.view(-1, 24)\n",
    "        X = self.linear(X)\n",
    "        return F.sigmoid(X).view(-1)\n",
    "    \n",
    "\n",
    "discriminator = Discriminator()\n",
    "\n",
    "print(discriminator(X).shape)\n",
    "\n",
    "discriminator(X)"
   ]
  },
  {
   "cell_type": "code",
   "execution_count": 177,
   "metadata": {},
   "outputs": [],
   "source": [
    "lr = 0.0002\n",
    "beta1 = 0.5\n",
    "\n",
    "criterion = nn.BCELoss()\n",
    "\n",
    "optimizerD = optim.Adam(discriminator.parameters(), lr=lr, betas=(beta1, 0.999))\n",
    "optimizerG = optim.Adam(generator.parameters(), lr=lr, betas=(beta1, 0.999))"
   ]
  },
  {
   "cell_type": "code",
   "execution_count": 182,
   "metadata": {},
   "outputs": [],
   "source": [
    "for ix_iter, data in enumerate(data_loader):\n",
    "    ############################\n",
    "    # (1) Update D network: maximize log(D(x)) + log(1 - D(G(z)))\n",
    "    ###########################\n",
    "    # train with real\n",
    "    discriminator.zero_grad()\n",
    "#     real_cpu = data[0].to(device)\n",
    "#     batch_size = real_cpu.size(0)\n",
    "#     label = torch.full((batch_size,), real_label, device=device)\n",
    "\n",
    "#     output = netD(real_cpu)\n",
    "#     errD_real = criterion(output, label)\n",
    "#     errD_real.backward()\n",
    "#     D_x = output.mean().item()\n",
    "\n",
    "#     # train with fake\n",
    "#     noise = torch.randn(batch_size, nz, 1, 1, device=device)\n",
    "#     fake = netG(noise)\n",
    "#     label.fill_(fake_label)\n",
    "#     output = netD(fake.detach())\n",
    "#     errD_fake = criterion(output, label)\n",
    "#     errD_fake.backward()\n",
    "#     D_G_z1 = output.mean().item()\n",
    "#     errD = errD_real + errD_fake\n",
    "#     optimizerD.step()\n",
    "\n",
    "#     ############################\n",
    "#     # (2) Update G network: maximize log(D(G(z)))\n",
    "#     ###########################\n",
    "#     netG.zero_grad()\n",
    "#     label.fill_(real_label)  # fake labels are real for generator cost\n",
    "#     output = netD(fake)\n",
    "#     errG = criterion(output, label)\n",
    "#     errG.backward()\n",
    "#     D_G_z2 = output.mean().item()\n",
    "#     optimizerG.step()\n",
    "\n",
    "    break"
   ]
  },
  {
   "cell_type": "code",
   "execution_count": null,
   "metadata": {},
   "outputs": [],
   "source": []
  },
  {
   "cell_type": "code",
   "execution_count": null,
   "metadata": {},
   "outputs": [],
   "source": []
  },
  {
   "cell_type": "code",
   "execution_count": null,
   "metadata": {},
   "outputs": [],
   "source": []
  },
  {
   "cell_type": "code",
   "execution_count": null,
   "metadata": {},
   "outputs": [],
   "source": []
  },
  {
   "cell_type": "code",
   "execution_count": null,
   "metadata": {},
   "outputs": [],
   "source": []
  },
  {
   "cell_type": "code",
   "execution_count": null,
   "metadata": {},
   "outputs": [],
   "source": []
  },
  {
   "cell_type": "code",
   "execution_count": null,
   "metadata": {},
   "outputs": [],
   "source": []
  },
  {
   "cell_type": "code",
   "execution_count": null,
   "metadata": {},
   "outputs": [],
   "source": []
  }
 ],
 "metadata": {
  "kernelspec": {
   "display_name": "Python 3",
   "language": "python",
   "name": "python3"
  }
 },
 "nbformat": 4,
 "nbformat_minor": 2
}
