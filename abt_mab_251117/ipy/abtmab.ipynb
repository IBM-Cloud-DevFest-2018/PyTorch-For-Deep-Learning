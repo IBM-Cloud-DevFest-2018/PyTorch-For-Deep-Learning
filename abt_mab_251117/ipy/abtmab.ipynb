{
 "cells": [
  {
   "cell_type": "code",
   "execution_count": 5,
   "metadata": {
    "slideshow": {
     "slide_type": "skip"
    }
   },
   "outputs": [
    {
     "data": {
      "text/html": [
       "\n",
       "<style>\n",
       "\n",
       "div.cell { /* Tunes the space between cells */\n",
       "margin-top:1em;\n",
       "margin-bottom:1em;\n",
       "}\n",
       "\n",
       "div.text_cell_render h1 { /* Main titles bigger, centered */\n",
       "font-size: 2.2em;\n",
       "line-height:1.4em;\n",
       "text-align:center;\n",
       "}\n",
       "\n",
       "div.text_cell_render h2 { /*  Parts names nearer from text */\n",
       "margin-bottom: -0.4em;\n",
       "}\n",
       "\n",
       "\n",
       "div.text_cell_render { /* Customize text cells */\n",
       "font-family: 'Times New Roman';\n",
       "font-size:1.5em;\n",
       "line-height:1.4em;\n",
       "padding-left:3em;\n",
       "padding-right:3em;\n",
       "}\n",
       "</style>\n"
      ],
      "text/plain": [
       "<IPython.core.display.HTML object>"
      ]
     },
     "execution_count": 5,
     "metadata": {},
     "output_type": "execute_result"
    }
   ],
   "source": [
    "from IPython.core.display import HTML\n",
    "HTML(\"\"\"\n",
    "<style>\n",
    "\n",
    "div.cell { /* Tunes the space between cells */\n",
    "margin-top:1em;\n",
    "margin-bottom:1em;\n",
    "}\n",
    "\n",
    "div.text_cell_render h1 { /* Main titles bigger, centered */\n",
    "font-size: 2.2em;\n",
    "line-height:1.4em;\n",
    "text-align:center;\n",
    "}\n",
    "\n",
    "div.text_cell_render h2 { /*  Parts names nearer from text */\n",
    "margin-bottom: -0.4em;\n",
    "}\n",
    "\n",
    "\n",
    "div.text_cell_render { /* Customize text cells */\n",
    "font-family: 'Times New Roman';\n",
    "font-size:1.5em;\n",
    "line-height:1.4em;\n",
    "padding-left:3em;\n",
    "padding-right:3em;\n",
    "}\n",
    "</style>\n",
    "\"\"\")"
   ]
  },
  {
   "cell_type": "code",
   "execution_count": 11,
   "metadata": {
    "collapsed": true
   },
   "outputs": [],
   "source": [
    "# imports\n",
    "%matplotlib inline\n",
    "import matplotlib\n",
    "import numpy as np\n",
    "import matplotlib.pyplot as plt\n",
    "import pandas as pd\n",
    "pd.set_option('display.max_columns', 500)\n",
    "import seaborn as sns\n",
    "sns.set_style(\"dark\")\n",
    "plt.rcParams['figure.figsize'] = 16, 12\n",
    "from tqdm import tqdm, tqdm_notebook\n",
    "from scipy import stats"
   ]
  },
  {
   "cell_type": "markdown",
   "metadata": {
    "slideshow": {
     "slide_type": "skip"
    }
   },
   "source": [
    "- https://en.wikipedia.org/wiki/A/B_testing\n",
    "- https://conversionxl.com/wp-content/uploads/2016/06/AB_Testing_Whitepaper.compressed.pdf\n",
    "- https://github.com/mephistopheies/dds/blob/master/lr_040117/ipy/lecture.ipynb\n",
    "- https://github.com/mephistopheies/mlworkshop39_042017/blob/master/1_ml_intro/ipy/lecture.ipynb\n",
    "- https://github.com/mephistopheies/habraposts/blob/master/mab/ipy/abtests.ipynb\n",
    "- https://habrahabr.ru/company/ods/blog/325416/\n",
    "- http://gandenberger.org/2014/07/28/intro-to-statistical-methods-2/\n",
    "- http://blog.analytics-toolkit.com/2017/5-reasons-bayesian-ab-testing-debunked/\n",
    "- http://www.business2community.com/online-marketing/bayesian-vs-frequentist-ab-testing-whats-the-difference-01304346#TDUSGScf8pPSbEKz.97"
   ]
  },
  {
   "cell_type": "markdown",
   "metadata": {
    "slideshow": {
     "slide_type": "slide"
    }
   },
   "source": [
    "# Table of content\n",
    "0. Problem statement\n",
    "1. A/B tests for online experiments\n",
    "2. Recap of bayesian inference\n",
    "3. Binomial multi-armed bandits for online experimens\n",
    "4. Contextual multi-armed bandits\n",
    "5. Relation to reinforcement learning"
   ]
  },
  {
   "cell_type": "markdown",
   "metadata": {
    "slideshow": {
     "slide_type": "slide"
    }
   },
   "source": [
    "# Problem statement"
   ]
  },
  {
   "cell_type": "markdown",
   "metadata": {
    "slideshow": {
     "slide_type": "subslide"
    }
   },
   "source": [
    "- let's assume that there is a web page http://ods.ai/ of data science community\n",
    "- the goal of owners of the web page is to engage as more people as possible to join the community\n",
    "- for years ODS was using the transparent background colour of the join button\n",
    "- and it is time to change something, people believe that new colour will increase conversion rate dramatically (basically it is _CTR_, _click-through-rate_)\n",
    "- there are <font color=\"red\">four</font> <font color=\"green\">different</font> <font color=\"blue\">hypothesis</font> <font color=\"orange\">about</font> which colour of the button should be used on the web page\n",
    "- our goal for today is to figure out the way how to determine which _variation_ of the button is _better_\n",
    "\n",
    "Old version | New version\n",
    "-----------------|------------\n",
    "![Old version](./../images/v0_tr.png) | ![New version](./../images/v1_red.png)"
   ]
  },
  {
   "cell_type": "markdown",
   "metadata": {
    "collapsed": true,
    "slideshow": {
     "slide_type": "slide"
    }
   },
   "source": [
    "## Naive solution\n",
    "- split all traffic into 5 groups for each of variation of the button\n",
    "- wait one week\n",
    "- keep only that one which has higher CTR\n",
    "- **do you have any doubts about such solution?**"
   ]
  },
  {
   "cell_type": "markdown",
   "metadata": {
    "collapsed": true
   },
   "source": [
    "## Problems of naive approach\n",
    "- should we spend all traffic for testing?\n",
    "- why should we wait one week? what about one day? or maybe it would be _better_ to wait one month?\n",
    "- what does _better_ mean? just greater?"
   ]
  },
  {
   "cell_type": "markdown",
   "metadata": {
    "collapsed": true
   },
   "source": [
    "# A/B tests for online experiments\n",
    "- let's try to handle this problem with old approach - scientific controlled experiment \n",
    "- application of scientific controlled experiment to online testing is called A/B/n testing\n",
    "- it is said that maybe Google ran first A/B test at the beginning of 2000th"
   ]
  },
  {
   "cell_type": "markdown",
   "metadata": {
    "collapsed": true
   },
   "source": [
    "## Scientific controlled experiment \n",
    "- the goal of controlled experiment is to eliminate alternate explanations of experimental results\n",
    "- power of statistics and probability theory is used to measure _statistical significance_ of the results\n",
    "- there are at least two groups in the experiment, they are identical except one or more receives a treatment (colour of button) while the last one doesn't (original transparent button)\n",
    " - last one is usually called _control group_, it corresponds to $H_0$ null hypothesis which is stand for \"there is no any correlation between coloor of the button and CTR\"\n",
    " - other groups are called _treatment groups_, which are corresponded to alternative hypotheses $H_i$: \"colour X is correlated with CTR\"\n",
    " - during the experiment we try to reject $H_0$ in a favour to any of $H_i$\n",
    "- using this framework to measure _statistical significance_ we can calculate required sample size for the experiment (number of users who will receives a treatment, or will see coloured button)"
   ]
  },
  {
   "cell_type": "markdown",
   "metadata": {
    "collapsed": true
   },
   "source": [
    "## A/B/n test framework for binary outcomes\n",
    "- we will cover the case of CTR experiment (binary outcomes)\n",
    "- the CTR framework can be easyly generalized to real-valued outcomem (e.g. profit per user)\n",
    "- let's assume that a click is a random variable $k$ with two possible outcomes:\n",
    " - $1$ for click with probability $\\theta$\n",
    " - $0$ for non-click event with probability $1 - \\theta$\n",
    "- such random variable has _Bernoulli_ distribution parameterized with $\\theta$\n",
    "\n",
    "$$\\large \n",
    "\\begin{array}{rcl}\n",
    "k &\\sim& \\text{Bernoulli}\\left(\\theta\\right) \\\\\n",
    "p\\left(k\\right) &=& \\theta^k \\left(1 - \\theta\\right)^{1 - k} \\\\\n",
    "\\mu &=& \\theta \\\\\n",
    "\\sigma^2 &=& \\theta\\left(1 - \\theta\\right)\n",
    "\\end{array} \n",
    "$$"
   ]
  },
  {
   "cell_type": "markdown",
   "metadata": {
    "collapsed": true
   },
   "source": [
    "## A/B/n test framework for binary outcomes\n",
    "- for start lets go throught the case when we have only one alternative hypothesis, i.e. transparent vs red colour, later we will see how it can be generalized to any number of variations\n",
    "- so we have two hypotheses:\n",
    " - null hypothesis $H_0$: $\\theta_c = \\theta_t$ (_c_ for control and _t_ fot treatment), which means that there is no any difference in the probability of click to the old and new version of the button\n",
    " - alternative hypothesis $H_1$: $\\theta_c < \\theta_t$, which means that users will click to the new version more often than to the old one"
   ]
  },
  {
   "cell_type": "markdown",
   "metadata": {
    "collapsed": true
   },
   "source": [
    "## Frequentist approach to probability\n",
    "\n",
    "- we will estimate probabilities $\\theta_c$ and $\\theta_t$ using frequentist approach, just dividing number of positive outcome to the total number of _impressions_\n",
    "- claim of the frequentist approach is that in the \"long run,\" as the number of trials approaches infinity, the relative frequency will converge exactly to the true probability:\n",
    "\n",
    "$$\\large\n",
    "P\\left(x\\right) = \\lim_{n_{\\text{total}} \\rightarrow \\infty} \\frac{n_{\\text{positive}}}{n_{\\text{total}}}\n",
    "$$\n",
    "\n",
    "- if we doesn't require exact estimation, we can find such _condition_ that our estimation will be approximation with any given _precision_:\n",
    "\n",
    "$$\\large\n",
    "\\hat{P}\\left(x\\right) \\approx\\frac{n_{\\text{positive}}}{n_{\\text{total}}}\n",
    "$$\n",
    "\n",
    "- let's figure out how to calculalate such conditions, there are two theorems which will help us in this quest"
   ]
  },
  {
   "cell_type": "markdown",
   "metadata": {
    "collapsed": true
   },
   "source": [
    "## Law of large numbers\n",
    "\n",
    "- actually we do not even know what is the exact value of $\\theta_c$, of probability but we can use the law of large numbers to estimate it:\n",
    "\n",
    "$$\\large\n",
    "\\begin{array}{rcl}\n",
    "\\overline{\\theta}_n &=& \\frac{1}{n}\\sum_{i=1}^n k_i \\\\\n",
    "\\forall \\epsilon \\in \\mathbb{R}: \\lim_{n \\rightarrow \\infty} &=& P\\left(\\left|\\overline{\\theta}_n - \\mu\\right| < \\epsilon\\right) = 1\n",
    "\\end{array}\n",
    "$$\n",
    "\n",
    "- according to the law, the average of the results obtained from a large number of trials should be close to the expected value, and will tend to become closer as more trials are performed\n",
    "- very similar to the probability definition in the frequentist approach, but the difference is in the object, here we are talking about approximation of the sample average and expected values of the random variable"
   ]
  },
  {
   "cell_type": "markdown",
   "metadata": {
    "collapsed": true
   },
   "source": [
    "## Central limit theorem\n",
    "\n",
    "- using CLT we can figure out that sample mean is distributed normally, which allow us to use _t-test_ to compare two different sample means\n",
    "- given an sequence of iid random variables $k_1, k_2, \\ldots$ with some $\\mu$ and $\\sigma^2$ (they can have any kind of distribution), let's sum of subsequence as $S_n = \\sum_{i}^n k_i$, then\n",
    "\n",
    "$$\\large\n",
    "\\frac{S_n - \\mu n}{\\sigma\\sqrt{n}} \\rightarrow \\mathcal{N}\\left(0, 1\\right)\\text{ when }n \\rightarrow \\infty\n",
    "$$\n",
    "\n",
    "- which basically means that sample mean is distrimuted normally, and large sample tends to reduce variance of the estimation\n",
    "\n",
    "$$\\large\n",
    "\\overline{\\theta} \\sim \\mathcal{N}\\left(\\mu, \\frac{\\sigma^2}{n}\\right)\n",
    "$$"
   ]
  },
  {
   "cell_type": "markdown",
   "metadata": {
    "collapsed": true
   },
   "source": [
    "## A/B/n test framework for binary outcomes\n",
    "- actually now we have theoretical basis to do some inference\n",
    "- we can send 10 users to each variation, estimate _sample mean_ of each variation and _sample variance_ and use _two-sample z statistic_ to figure out is the difference is significant or not\n",
    "- test will work even with the size equal to 10, basically it will say us whether we can reject $H_0$ or not\n",
    "- but obviously there is something wrong is such setup, isn't it?\n",
    "- to eliminate hardcoded sample size we will introduce two more hardcoded hyperparameters of the model"
   ]
  },
  {
   "cell_type": "markdown",
   "metadata": {
    "collapsed": true
   },
   "source": [
    "## Two types of errors\n",
    "\n",
    "<table width=\"100%\" style='font-size:100%'>\n",
    "<tr><td colspan=2 rowspan=2></td><td colspan=2>Ground truth</td></tr>\n",
    "<tr><td>$H_0$</td><td>$H_1$</td></tr>\n",
    "<tr>\n",
    "    <td rowspan=2>Test outcome</td>\n",
    "    <td>$H_0$</td>\n",
    "    <td bgcolor=\"lightgreen\">$H_0$ accepted</td>\n",
    "    <td bgcolor=\"LightCoral\">$H_0$ fail to reject <br/> (type II error)</td>\n",
    "</tr>\n",
    "<tr>\n",
    "    <td>$H_1$</td>\n",
    "    <td bgcolor=\"LightCoral\">$H_0$ fail to accept <br/> (type I error)</td>\n",
    "    <td bgcolor=\"lightgreen\">$H_0$ rejected</td>\n",
    "</tr>\n",
    "</table>\n",
    "- let's define probability of the type I error, i.e. probability to accept alternatyve hyposesis given that null one is true, as:\n",
    " - $\\alpha = P\\left(H_1 \\mid H_0\\right)$\n",
    " - usually it is called _statistical significance_\n",
    "- let's define probability of the type II error, i.e. probability to accept null hyposesis given that alternatyve one is true, as:\n",
    " - $\\beta = P\\left(H_0 \\mid H_1\\right)$\n",
    " - $1 - \\beta$ usually called _statistical power_"
   ]
  },
  {
   "cell_type": "markdown",
   "metadata": {
    "collapsed": true
   },
   "source": [
    "## Two types of errors\n",
    "\n",
    "- to illustrate the meaning of errors lets do small exercise\n",
    "- we will choose:\n",
    " - $\\mu_c$ and $\\mu_t$ as mean values of a statistic of the control and treatment group correspondingly\n",
    " - $\\sigma_c$ and $\\sigma_t$\n",
    " - $c$ as a critical threshold\n",
    "   - all values to the right of the threshold are considered to be taken from <font color=\"blue\"> the treatment group</font>\n",
    "   - all values to the left of the threshold are considered to be taken from <font color=\"red\">control group</font>"
   ]
  },
  {
   "cell_type": "code",
   "execution_count": 7,
   "metadata": {
    "collapsed": true
   },
   "outputs": [],
   "source": [
    "# mean values\n",
    "mu_c = 0.1\n",
    "mu_t = 0.6\n",
    "\n",
    "# standard deviations\n",
    "s_c = 0.25\n",
    "s_t = 0.3\n",
    "\n",
    "# threshold\n",
    "c = 1.3*(mu_c + mu_t)/2"
   ]
  },
  {
   "cell_type": "code",
   "execution_count": 16,
   "metadata": {},
   "outputs": [
    {
     "data": {
      "image/png": "[encoded data removed]",
      "text/plain": [
       "<matplotlib.figure.Figure at 0x10df55710>"
      ]
     },
     "metadata": {},
     "output_type": "display_data"
    }
   ],
   "source": [
    "support = np.linspace(\n",
    "    stats.norm.ppf(0.0001, loc=mu_c, scale=s_c), \n",
    "    stats.norm.ppf(1 - 0.0005, loc=mu_t, scale=s_t), 1000)\n",
    "y1 = stats.norm.pdf(support, loc=mu_c, scale=s_c)\n",
    "y2 = stats.norm.pdf(support, loc=mu_t, scale=s_t)\n",
    "\n",
    "fig, ax = plt.subplots()\n",
    "ax.plot(support, y1, color='r', label='y1: control')\n",
    "ax.plot(support, y2, color='b', label='y2: treatment')\n",
    "ax.set_ylim(0, 1.1*np.max([\n",
    "            stats.norm.pdf(mu_c, loc=mu_c, scale=s_c),\n",
    "            stats.norm.pdf(mu_t, loc=mu_t, scale=s_t)\n",
    "        ]))\n",
    "ax.axvline(c, color='g', label='c: critical value')\n",
    "ax.axvline(mu_c, color='r', alpha=0.3, linestyle='--', label='mu_c')\n",
    "ax.axvline(mu_t, color='b', alpha=0.3, linestyle='--', label='mu_t')\n",
    "ax.fill_between(support[support <= c], \n",
    "                y2[support <= c], \n",
    "                color='b', alpha=0.2, label='b: power')\n",
    "ax.fill_between(support[support >= c], \n",
    "                y1[support >= c], \n",
    "                color='r', alpha=0.2, label='a: significance')\n",
    "\n",
    "ax.legend(loc='upper right', prop={'size': 20})\n",
    "ax.set_title('A/B test setup for sample size estimation', fontsize=20)\n",
    "ax.set_xlabel('Values')\n",
    "ax.set_ylabel('Propabilities')\n",
    "\n",
    "plt.show()"
   ]
  },
  {
   "cell_type": "markdown",
   "metadata": {},
   "source": [
    "## Selection of sample size\n",
    "\n",
    "- using quantile function for normal distribution we can calculate position of the theshold\n",
    "\n",
    "$$\\large\n",
    "c = \\mu + t\\frac{\\sigma}{\\sqrt{n}}\n",
    "$$\n",
    "- where $t = P\\left(X \\leq t\\right), X \\sim \\mathcal{N}\\left(0, 1\\right)$\n",
    "- we can construct system of two equations, one for each of group\n",
    "\n",
    "$$\\large\\left\\{ {c = \\theta_c + t_{\\alpha}\\sqrt{\\frac{\\theta_c\\left(1 - \\theta_c\\right)}{n}}\\atop c = \\theta_t + t_{\\beta}\\sqrt{\\frac{\\theta_t\\left(1 - \\theta_t\\right)}{n}}} \\right.\n",
    "$$"
   ]
  },
  {
   "cell_type": "markdown",
   "metadata": {},
   "source": [
    "## Selection of sample size\n",
    "\n",
    "- Solving previous system for $n$ will give us required number of samples per group with respect to given statistical significance and power\n",
    "\n",
    "$$\\large\n",
    "\\begin{array}{rcl}\n",
    "\\theta_c + t_{\\alpha}\\sqrt{\\frac{\\theta_c\\left(1 - \\theta_c\\right)}{n}} &=& \\theta_t + t_{\\beta}\\sqrt{\\frac{\\theta_t\\left(1 - \\theta_t\\right)}{n}} \\\\\n",
    "\\theta_c \\sqrt{n} + t_{\\alpha}\\sqrt{\\theta_c\\left(1 - \\theta_c\\right)} &=& \\theta_t \\sqrt{n} + t_{\\beta}\\sqrt{\\theta_t\\left(1 - \\theta_t\\right)} \\\\\n",
    "n &=& \\left(\\frac{t_{\\beta}\\sqrt{\\theta_t\\left(1 - \\theta_t\\right)} - t_{\\alpha}\\sqrt{\\theta_c\\left(1 - \\theta_c\\right)}}{\\theta_c - \\theta_t}\\right)^2\n",
    "\\end{array}\n",
    "$$"
   ]
  },
  {
   "cell_type": "markdown",
   "metadata": {},
   "source": [
    "## Selection of sample size\n",
    "\n",
    "- to see that it really works let's do one more small exercise\n",
    "- let's assume that \n",
    " - $\\mu_c = 0.001$\n",
    " - $\\mu_t = 0.0011$\n",
    " - $\\alpha = \\beta = 0.01$\n",
    "- for such setup we need to send `2 269 319` users to each of variations\n",
    "- theshold of rejecting $H_0$ will be $c = 0.00104$"
   ]
  },
  {
   "cell_type": "code",
   "execution_count": 18,
   "metadata": {},
   "outputs": [
    {
     "name": "stdout",
     "output_type": "stream",
     "text": [
      "n = 2269319\n",
      "c = 0.00104881009215\n"
     ]
    }
   ],
   "source": [
    "def get_size(theta_c, theta_t, alpha, beta):\n",
    "    # calculate quantiles of normal distribution\n",
    "    t_alpha = stats.norm.ppf(1 - alpha, loc=0, scale=1)\n",
    "    t_beta = stats.norm.ppf(beta, loc=0, scale=1)\n",
    "    # solve equation for n\n",
    "    n = t_alpha*np.sqrt(theta_t*(1 - theta_t))\n",
    "    n -= t_beta*np.sqrt(theta_c*(1 - theta_c))\n",
    "    n /= theta_c - theta_t\n",
    "    return int(np.ceil(n*n))\n",
    "\n",
    "n_max = get_size(0.001, 0.0011, 0.01, 0.01)\n",
    "print('n =', n_max)\n",
    "c = 0.001 + stats.norm.ppf(1 - 0.01, loc=0, scale=1)*np.sqrt(0.001*(1 - 0.001)/n_max)\n",
    "print('c =', c)"
   ]
  },
  {
   "cell_type": "markdown",
   "metadata": {},
   "source": [
    "## Selection of sample size\n",
    "- we can also draw animation of convergence of two thresholds to one as a function of a sample size"
   ]
  },
  {
   "cell_type": "code",
   "execution_count": null,
   "metadata": {
    "collapsed": true
   },
   "outputs": [],
   "source": [
    "def heavy_plot_function():\n",
    "    np.random.seed(1342)\n",
    "\n",
    "    p_c = 0.3 \n",
    "    p_t = 0.4\n",
    "    alpha = 0.05\n",
    "    beta = 0.2\n",
    "\n",
    "    n_max = get_size(p_c, p_t, alpha, beta)\n",
    "    c = p_c + stats.norm.ppf(1 - alpha, loc=0, scale=1)*np.sqrt(p_c*(1 - p_c)/n_max)\n",
    "    print(n_max, c)\n",
    "\n",
    "    def plot_sample_size_frames(do_dorm, width, height):\n",
    "        left_x = c - width\n",
    "        right_x = c + width\n",
    "\n",
    "        n_list = range(5, n_max, 1) + [n_max]\n",
    "        for f in glob.glob(\"./../images/sample_size_gif/*_%s.*\" % \n",
    "                           ('normed' if do_dorm else 'real')):\n",
    "            os.remove(f)\n",
    "        for n in tqdm_notebook(n_list):\n",
    "            s_c = np.sqrt(p_c*(1 - p_c)/n)\n",
    "            s_t = np.sqrt(p_t*(1 - p_t)/n)\n",
    "\n",
    "            c_c = p_c + stats.norm.ppf(1 - alpha, loc=0, scale=1)*s_c\n",
    "            c_t = p_t + stats.norm.ppf(beta, loc=0, scale=1)*s_t\n",
    "\n",
    "            support = np.linspace(left_x, right_x, 1000)\n",
    "            y_c = stats.norm.pdf(support, loc=p_c, scale=s_c)\n",
    "            y_t = stats.norm.pdf(support, loc=p_t, scale=s_t)\n",
    "            if do_dorm:\n",
    "                y_c /= max(y_c.max(), y_t.max())\n",
    "                y_t /= max(y_c.max(), y_t.max())\n",
    "\n",
    "            fig, ax = plt.subplots()\n",
    "            ax.plot(support, y_c, color='r', label='y control')\n",
    "            ax.plot(support, y_t, color='b', label='y treatment')\n",
    "\n",
    "            ax.set_ylim(0, height)\n",
    "            ax.set_xlim(left_x, right_x)\n",
    "\n",
    "            ax.axvline(c, color='g', label='c')\n",
    "            ax.axvline(c_c, color='m', label='c_c')\n",
    "            ax.axvline(c_t, color='c', label='c_p')\n",
    "            ax.axvline(p_c, color='r', alpha=0.3, linestyle='--', label='p_c')\n",
    "            ax.axvline(p_t, color='b', alpha=0.3, linestyle='--', label='p_t')\n",
    "\n",
    "            ax.fill_between(support[support <= c_t], \n",
    "                            y_t[support <= c_t], \n",
    "                            color='b', alpha=0.2, label='b: power')\n",
    "            ax.fill_between(support[support >= c_c], \n",
    "                            y_c[support >= c_c], \n",
    "                            color='r', alpha=0.2, label='a: significance')\n",
    "\n",
    "            ax.legend(loc='upper right', prop={'size': 20})\n",
    "\n",
    "            ax.set_title('Sample size: %i' % n, fontsize=20)\n",
    "\n",
    "            fig.savefig('./../images/sample_size_gif/%i_%s.png' % \n",
    "                        (n, 'normed' if do_dorm else 'real'), dpi=80)\n",
    "\n",
    "            plt.close(fig)\n",
    "\n",
    "    plot_sample_size_frames(do_dorm=True, width=0.5, height=1.1)\n",
    "    plot_sample_size_frames(do_dorm = False, width=1, height=2.5)\n",
    "\n",
    "    !convert -delay 5 $(for i in $(seq 5 1 142); do echo ./../images/sample_size_gif/${i}_normed.png; done) -loop 0 ./../images/sample_size_gif/sample_size_normed.gif\n",
    "    for f in glob.glob(\"./../images/sample_size_gif/*_normed.png\"):\n",
    "        os.remove(f)\n",
    "\n",
    "    !convert -delay 5 $(for i in $(seq 5 1 142); do echo ./../images/sample_size_gif/${i}_real.png; done) -loop 0 ./../images/sample_size_gif/sample_size_real.gif\n",
    "    for f in glob.glob(\"./../images/sample_size_gif/*_real.png\"):\n",
    "        os.remove(f)\n",
    "        \n",
    "# heavy_plot_function"
   ]
  },
  {
   "cell_type": "markdown",
   "metadata": {},
   "source": [
    "![Cheated animation](./../images/cheated_conv_ab.gif)"
   ]
  },
  {
   "cell_type": "markdown",
   "metadata": {},
   "source": [
    "![Correct animation](./../images/conv_ab.gif)"
   ]
  },
  {
   "cell_type": "markdown",
   "metadata": {
    "collapsed": true
   },
   "source": [
    "## A/B/n test framework for binary outcomes\n",
    "- requires:\n",
    " - sample mean, sample variance of the CTR and the _lift_ to estimate sample size for the test\n",
    "   - lift is a level of acceptance of the CTR to change design of the web site\n",
    "   - if new CTR is greater than old by $0.00001$ and you auditory is 100 persons per day, than maybe it doesn't worth to switch design\n",
    " - $\\alpha$ and $\\beta$, in ideal situation it should be determined by marketing department (if they do not understand this concept, than explaining would became most hardest part of A/B test)\n",
    "- outcome:\n",
    " - if test favors an alternative hypothesis, than we are happy, but still there are $\\alpha \\cdot 100\\%$ and $\\beta \\cdot 100\\%$ chances of an error\n",
    " - if outcome is fo not rejecting null hypothesis, than we would be very upset; actually, it doesn't say us that new colour works bad, just that _given all condition there are no evidence to reject_ $H_0$ (maybe if lift would be a bit less than we could reject $H_0$)\n",
    "- ...too many conditions and too poor outcome..."
   ]
  },
  {
   "cell_type": "markdown",
   "metadata": {
    "collapsed": true
   },
   "source": [
    "## A/B/n test framework for binary outcomes\n",
    "- if you still remember, we actually have <font color=\"red\">four</font> <font color=\"green\">different</font> <font color=\"blue\">button</font> <font color=\"orange\">colors</font>, it means that we have four alternative hypotheses\n",
    "- to handle this problem we can split users into 5 groups, one control and four treatment groups\n",
    "- first issue here is that we can not test all of them vs each other, the test is four alternative vs one control\n",
    " - at the end of a day if you have that two of them perform better then control, then you will need to run one more test between these two hypotheses\n",
    "- second issue is with sample size, again"
   ]
  },
  {
   "cell_type": "markdown",
   "metadata": {},
   "source": [
    "## Bonferroni correction\n",
    "\n",
    "- given statistical significance level $\\alpha = P\\left(H_1 \\mid H_0\\right)$ and two events:\n",
    " - $A$: `the probability of rejecting at least one true hypothesis`\n",
    " - $B$: `making at least one type I error`\n",
    "\n",
    "$$\\large\\begin{array}{rcl}\n",
    "P\\left(A\\right) &=& 1 - P\\left(B\\right) \\\\\n",
    "&=& 1 - \\left(1 - 0.05\\right)^5 \\\\\n",
    "&=& 1 - 0.95^5 \\\\\n",
    "&\\approx& 0.2262\n",
    "\\end{array}$$\n",
    "\n",
    "- magically $5\\%$ becomes $22.62\\%$ "
   ]
  },
  {
   "cell_type": "markdown",
   "metadata": {},
   "source": [
    "![WAT](./../images/wat.png)"
   ]
  },
  {
   "cell_type": "markdown",
   "metadata": {},
   "source": [
    "## Bonferroni correction\n",
    "\n",
    "- let's try to divide original $\\alpha$ level to the number of variations\n",
    "\n",
    "$$\\large\\begin{align}\n",
    "P \\left({ \\bigcup_{i=1}^{n}\\left( p_i<\\frac{\\alpha}{n}\\right) }\\right) &\\le \\sum_{i=1}^{n}P\\left(p_i<\\frac{\\alpha}{n}\\right)\\\\\n",
    "&\\le \\sum_{i=1}^{n}\\frac{\\alpha}{n}\\\\\n",
    "&= n \\frac{\\alpha}{n}\\\\\n",
    "&= \\alpha\n",
    "\\end{align}$$"
   ]
  },
  {
   "cell_type": "markdown",
   "metadata": {},
   "source": [
    "## Bonferroni correction\n",
    "\n",
    "- let's chech this trick\n",
    "\n",
    "$$\\large\\begin{array}{rcl}\n",
    "P\\left(A\\right) &=& 1 - P\\left(B\\right) \\\\\n",
    "&=& 1 - \\left(1 - 0.01\\right)^5 \\\\\n",
    "&=& 1 - 0.99^5 \\\\\n",
    "&\\approx& 0.0491\n",
    "\\end{array}$$\n",
    "\n",
    "- lets recalculate sample size for previouse example, before it was $n = 2269319$"
   ]
  },
  {
   "cell_type": "code",
   "execution_count": 24,
   "metadata": {},
   "outputs": [
    {
     "name": "stdout",
     "output_type": "stream",
     "text": [
      "n = 2853873\n"
     ]
    }
   ],
   "source": [
    "n_max = get_size(0.001, 0.0011, 0.01/5, 0.01)\n",
    "print('n =', n_max)"
   ]
  },
  {
   "cell_type": "markdown",
   "metadata": {},
   "source": [
    "## Zombi-salmon\n",
    "\n",
    "- <a href=\"http://prefrontal.org/files/posters/Bennett-Salmon-2009.pdf\">in 2012 Ig Nobel Prize</a> was given to the group of scientists\n",
    "\n",
    "```\n",
    "Subject. One mature Atlantic Salmon (Salmo salar) \n",
    "participated in the fMRI study. The salmon was \n",
    "approximately 18 inches long, weighed 3.8 lbs, \n",
    "and was not alive at the time of scanning.\n",
    "\n",
    "Task. The task administered to the salmon involved \n",
    "completing an open-ended mentalizing task. The \n",
    "salmon was shown an series of photographs depicting \n",
    "human individuals in social situations with a \n",
    "specified emotional valence. The salmon was asked \n",
    "to determine what emotion the individual in the \n",
    "photo must have been experiencing.\n",
    "```"
   ]
  },
  {
   "cell_type": "markdown",
   "metadata": {},
   "source": [
    "Salmon (dead) | Resurrection machine\n",
    "-----------------|------------\n",
    "<img src=\"./../images/salmon.jpg\" width=\"420\" /> | <img src=\"./../images/mri.jpg\" width=\"420\" />"
   ]
  },
  {
   "cell_type": "markdown",
   "metadata": {},
   "source": [
    "<img src=\"./../images/salmon_dead.png\" width=\"420\" />\n",
    "\n",
    "- given significance level $p=0.001$ they have got an activity in 16 of 8064 voxels, which is quite good for a dead fish\n",
    "- authors also have shown that up to $40\\%$ of papers in neurobiology ignore Bonferonni correction before 2010, after their publication this ratio reduced to $10\\%$"
   ]
  },
  {
   "cell_type": "code",
   "execution_count": null,
   "metadata": {
    "collapsed": true
   },
   "outputs": [],
   "source": []
  },
  {
   "cell_type": "code",
   "execution_count": null,
   "metadata": {
    "collapsed": true
   },
   "outputs": [],
   "source": []
  },
  {
   "cell_type": "code",
   "execution_count": null,
   "metadata": {
    "collapsed": true
   },
   "outputs": [],
   "source": []
  },
  {
   "cell_type": "code",
   "execution_count": null,
   "metadata": {
    "collapsed": true
   },
   "outputs": [],
   "source": []
  },
  {
   "cell_type": "code",
   "execution_count": null,
   "metadata": {
    "collapsed": true
   },
   "outputs": [],
   "source": []
  },
  {
   "cell_type": "markdown",
   "metadata": {},
   "source": [
    " Но мы то с вами точно знаем, что лучшим вариантом является только один вариант, а это значит, что мы направляем nk−1k=n45 (где k — количество вариаций) на заведомо плохие вариации, мы просто пока не знаем, какие из них — плохие. А каждый пользователь, направленный на плохую вариацию, приносит нам меньше прибыли, чем если бы он был направлен на хорошую вариацию. В следующем разделе мы рассмотрим альтернативную методику дизайна экспериментов, которая крайне эффективна именно в онлайн-тестировании."
   ]
  },
  {
   "cell_type": "code",
   "execution_count": null,
   "metadata": {
    "collapsed": true
   },
   "outputs": [],
   "source": []
  },
  {
   "cell_type": "code",
   "execution_count": null,
   "metadata": {
    "collapsed": true
   },
   "outputs": [],
   "source": []
  },
  {
   "cell_type": "code",
   "execution_count": null,
   "metadata": {
    "collapsed": true
   },
   "outputs": [],
   "source": []
  },
  {
   "cell_type": "code",
   "execution_count": null,
   "metadata": {
    "collapsed": true
   },
   "outputs": [],
   "source": []
  },
  {
   "cell_type": "code",
   "execution_count": null,
   "metadata": {
    "collapsed": true
   },
   "outputs": [],
   "source": []
  }
 ],
 "metadata": {
  "kernelspec": {
   "display_name": "Python 3",
   "language": "python",
   "name": "python3"
  },
  "language_info": {
   "codemirror_mode": {
    "name": "ipython",
    "version": 3
   },
   "file_extension": ".py",
   "mimetype": "text/x-python",
   "name": "python",
   "nbconvert_exporter": "python",
   "pygments_lexer": "ipython3",
   "version": "3.6.2"
  }
 },
 "nbformat": 4,
 "nbformat_minor": 2
}
