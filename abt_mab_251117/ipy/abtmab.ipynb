{
 "cells": [
  {
   "cell_type": "code",
   "execution_count": 1,
   "metadata": {
    "slideshow": {
     "slide_type": "skip"
    }
   },
   "outputs": [
    {
     "data": {
      "text/html": [
       "\n",
       "<style>\n",
       "\n",
       "div.cell { /* Tunes the space between cells */\n",
       "margin-top:1em;\n",
       "margin-bottom:1em;\n",
       "}\n",
       "\n",
       "div.text_cell_render h1 { /* Main titles bigger, centered */\n",
       "font-size: 2.2em;\n",
       "line-height:1.4em;\n",
       "text-align:center;\n",
       "}\n",
       "\n",
       "div.text_cell_render h2 { /*  Parts names nearer from text */\n",
       "margin-bottom: -0.4em;\n",
       "}\n",
       "\n",
       "\n",
       "div.text_cell_render { /* Customize text cells */\n",
       "font-family: 'Times New Roman';\n",
       "font-size:1.5em;\n",
       "line-height:1.4em;\n",
       "padding-left:3em;\n",
       "padding-right:3em;\n",
       "}\n",
       "</style>\n"
      ],
      "text/plain": [
       "<IPython.core.display.HTML object>"
      ]
     },
     "execution_count": 1,
     "metadata": {},
     "output_type": "execute_result"
    }
   ],
   "source": [
    "from IPython.core.display import HTML\n",
    "HTML(\"\"\"\n",
    "<style>\n",
    "\n",
    "div.cell { /* Tunes the space between cells */\n",
    "margin-top:1em;\n",
    "margin-bottom:1em;\n",
    "}\n",
    "\n",
    "div.text_cell_render h1 { /* Main titles bigger, centered */\n",
    "font-size: 2.2em;\n",
    "line-height:1.4em;\n",
    "text-align:center;\n",
    "}\n",
    "\n",
    "div.text_cell_render h2 { /*  Parts names nearer from text */\n",
    "margin-bottom: -0.4em;\n",
    "}\n",
    "\n",
    "\n",
    "div.text_cell_render { /* Customize text cells */\n",
    "font-family: 'Times New Roman';\n",
    "font-size:1.5em;\n",
    "line-height:1.4em;\n",
    "padding-left:3em;\n",
    "padding-right:3em;\n",
    "}\n",
    "</style>\n",
    "\"\"\")"
   ]
  },
  {
   "cell_type": "markdown",
   "metadata": {
    "slideshow": {
     "slide_type": "skip"
    }
   },
   "source": [
    "- https://en.wikipedia.org/wiki/A/B_testing\n",
    "- https://conversionxl.com/wp-content/uploads/2016/06/AB_Testing_Whitepaper.compressed.pdf\n",
    "- https://github.com/mephistopheies/dds/blob/master/lr_040117/ipy/lecture.ipynb\n",
    "- https://github.com/mephistopheies/mlworkshop39_042017/blob/master/1_ml_intro/ipy/lecture.ipynb\n",
    "- https://github.com/mephistopheies/habraposts/blob/master/mab/ipy/abtests.ipynb\n",
    "- https://habrahabr.ru/company/ods/blog/325416/\n",
    "- http://gandenberger.org/2014/07/28/intro-to-statistical-methods-2/"
   ]
  },
  {
   "cell_type": "markdown",
   "metadata": {
    "slideshow": {
     "slide_type": "slide"
    }
   },
   "source": [
    "# Table of content\n",
    "0. Problem statement\n",
    "1. A/B tests for online experiments\n",
    "2. Recap of bayesian inference\n",
    "3. Binomial multi-armed bandits for online experimens\n",
    "4. Contextual multi-armed bandits\n",
    "5. Relation to reinforcement learning"
   ]
  },
  {
   "cell_type": "markdown",
   "metadata": {
    "slideshow": {
     "slide_type": "slide"
    }
   },
   "source": [
    "# Problem statement"
   ]
  },
  {
   "cell_type": "markdown",
   "metadata": {
    "slideshow": {
     "slide_type": "subslide"
    }
   },
   "source": [
    "- let's assume that there is a web page http://ods.ai/ of data science community\n",
    "- the goal of owners of the web page is to engage as more people as possible to join the community\n",
    "- for years ODS was using the transparent background colour of the join button\n",
    "- and it is time to change something, people believe that new colour will increase conversion rate dramatically (basically it is _CTR_, _click-through-rate_)\n",
    "- there are <font color=\"red\">four</font> <font color=\"green\">different</font> <font color=\"blue\">hypothesis</font> <font color=\"orange\">about</font> which colour of the button should be used on the web page\n",
    "- our goal for today is to figure out the way how to determine which _variation_ of the button is _better_\n",
    "\n",
    "Old version | New version\n",
    "-----------------|------------\n",
    "![Old version](./../images/v0_tr.png) | ![New version](./../images/v1_red.png)"
   ]
  },
  {
   "cell_type": "markdown",
   "metadata": {
    "collapsed": true,
    "slideshow": {
     "slide_type": "slide"
    }
   },
   "source": [
    "## Naive solution\n",
    "- split all traffic into 5 groups for each of variation of the button\n",
    "- wait one week\n",
    "- keep only that one which has higher CTR\n",
    "- **do you have any doubts about such solution?**"
   ]
  },
  {
   "cell_type": "markdown",
   "metadata": {
    "collapsed": true
   },
   "source": [
    "## Problems of naive approach\n",
    "- should we spend all traffic for testing?\n",
    "- why should we wait one week? what about one day? or maybe it would be _better_ to wait one month?\n",
    "- what does _better_ mean? just greater?"
   ]
  },
  {
   "cell_type": "markdown",
   "metadata": {
    "collapsed": true
   },
   "source": [
    "# A/B tests for online experiments\n",
    "- let's try to handle this problem with old approach - scientific controlled experiment \n",
    "- application of scientific controlled experiment to online testing is called A/B/n testing\n",
    "- it is said that maybe Google ran first A/B test at the beginning of 2000th"
   ]
  },
  {
   "cell_type": "markdown",
   "metadata": {
    "collapsed": true
   },
   "source": [
    "## Scientific controlled experiment \n",
    "- the goal of controlled experiment is to eliminate alternate explanations of experimental results\n",
    "- power of statistics and probability theory is used to measure _statistical significance_ of the results\n",
    "- there are at least two groups in the experiment, they are identical except one or more receives a treatment (colour of button) while the last one doesn't (original transparent button)\n",
    " - last one is usually called _control group_, it corresponds to $H_0$ null hypothesis which is stand for \"there is no any correlation between coloor of the button and CTR\"\n",
    " - other groups are called _treatment groups_, which are corresponded to alternative hypotheses $H_i$: \"colour X is correlated with CTR\"\n",
    " - during the experiment we try to reject $H_0$ in a favour to any of $H_i$\n",
    "- using this framework to measure _statistical significance_ we can calculate required sample size for the experiment (number of users who will receives a treatment, or will see coloured button)"
   ]
  },
  {
   "cell_type": "markdown",
   "metadata": {
    "collapsed": true
   },
   "source": [
    "## A/B/n test framework for binary outcomes\n",
    "- we will cover the case of CTR experiment (binary outcomes)\n",
    "- the CTR framework can be easyly generalized to real-valued outcomem (e.g. profit per user)\n",
    "- we will assume that a click is a random variable $k$ "
   ]
  },
  {
   "cell_type": "code",
   "execution_count": null,
   "metadata": {
    "collapsed": true
   },
   "outputs": [],
   "source": []
  },
  {
   "cell_type": "code",
   "execution_count": null,
   "metadata": {
    "collapsed": true
   },
   "outputs": [],
   "source": []
  },
  {
   "cell_type": "code",
   "execution_count": null,
   "metadata": {
    "collapsed": true
   },
   "outputs": [],
   "source": []
  },
  {
   "cell_type": "code",
   "execution_count": null,
   "metadata": {
    "collapsed": true
   },
   "outputs": [],
   "source": []
  },
  {
   "cell_type": "code",
   "execution_count": null,
   "metadata": {
    "collapsed": true
   },
   "outputs": [],
   "source": []
  },
  {
   "cell_type": "code",
   "execution_count": null,
   "metadata": {
    "collapsed": true
   },
   "outputs": [],
   "source": []
  },
  {
   "cell_type": "code",
   "execution_count": null,
   "metadata": {
    "collapsed": true
   },
   "outputs": [],
   "source": []
  },
  {
   "cell_type": "code",
   "execution_count": null,
   "metadata": {
    "collapsed": true
   },
   "outputs": [],
   "source": []
  },
  {
   "cell_type": "code",
   "execution_count": null,
   "metadata": {
    "collapsed": true
   },
   "outputs": [],
   "source": [
    "A/B testing, also known as split testing, is a method of testing through which marketing variables are compared to each other to identify the one that brings a better response rate. In this context, the element that is being testing is called “control” and the element that is argued to give a better result is called “treatment.”"
   ]
  }
 ],
 "metadata": {
  "kernelspec": {
   "display_name": "Python 3",
   "language": "python",
   "name": "python3"
  },
  "language_info": {
   "codemirror_mode": {
    "name": "ipython",
    "version": 3
   },
   "file_extension": ".py",
   "mimetype": "text/x-python",
   "name": "python",
   "nbconvert_exporter": "python",
   "pygments_lexer": "ipython3",
   "version": "3.6.2"
  }
 },
 "nbformat": 4,
 "nbformat_minor": 2
}
